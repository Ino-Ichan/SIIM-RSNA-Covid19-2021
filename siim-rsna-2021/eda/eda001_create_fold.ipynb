{
 "cells": [
  {
   "cell_type": "code",
   "execution_count": 4,
   "id": "steady-collect",
   "metadata": {},
   "outputs": [],
   "source": [
    "import pandas as pd\n",
    "import numpy as np\n",
    "from glob import glob"
   ]
  },
  {
   "cell_type": "code",
   "execution_count": 41,
   "id": "vocal-excellence",
   "metadata": {},
   "outputs": [],
   "source": [
    "target_columns = [\n",
    "    \"Negative for Pneumonia\", \"Typical Appearance\", \"Indeterminate Appearance\", \"Atypical Appearance\"\n",
    "]"
   ]
  },
  {
   "cell_type": "code",
   "execution_count": 2,
   "id": "removed-independence",
   "metadata": {},
   "outputs": [],
   "source": [
    "df = pd.read_csv('/workspace/data/train_study_level.csv')"
   ]
  },
  {
   "cell_type": "code",
   "execution_count": 3,
   "id": "periodic-shower",
   "metadata": {},
   "outputs": [
    {
     "data": {
      "text/html": [
       "<div>\n",
       "<style scoped>\n",
       "    .dataframe tbody tr th:only-of-type {\n",
       "        vertical-align: middle;\n",
       "    }\n",
       "\n",
       "    .dataframe tbody tr th {\n",
       "        vertical-align: top;\n",
       "    }\n",
       "\n",
       "    .dataframe thead th {\n",
       "        text-align: right;\n",
       "    }\n",
       "</style>\n",
       "<table border=\"1\" class=\"dataframe\">\n",
       "  <thead>\n",
       "    <tr style=\"text-align: right;\">\n",
       "      <th></th>\n",
       "      <th>id</th>\n",
       "      <th>Negative for Pneumonia</th>\n",
       "      <th>Typical Appearance</th>\n",
       "      <th>Indeterminate Appearance</th>\n",
       "      <th>Atypical Appearance</th>\n",
       "    </tr>\n",
       "  </thead>\n",
       "  <tbody>\n",
       "    <tr>\n",
       "      <th>0</th>\n",
       "      <td>00086460a852_study</td>\n",
       "      <td>0</td>\n",
       "      <td>1</td>\n",
       "      <td>0</td>\n",
       "      <td>0</td>\n",
       "    </tr>\n",
       "    <tr>\n",
       "      <th>1</th>\n",
       "      <td>000c9c05fd14_study</td>\n",
       "      <td>0</td>\n",
       "      <td>0</td>\n",
       "      <td>0</td>\n",
       "      <td>1</td>\n",
       "    </tr>\n",
       "    <tr>\n",
       "      <th>2</th>\n",
       "      <td>00292f8c37bd_study</td>\n",
       "      <td>1</td>\n",
       "      <td>0</td>\n",
       "      <td>0</td>\n",
       "      <td>0</td>\n",
       "    </tr>\n",
       "    <tr>\n",
       "      <th>3</th>\n",
       "      <td>005057b3f880_study</td>\n",
       "      <td>1</td>\n",
       "      <td>0</td>\n",
       "      <td>0</td>\n",
       "      <td>0</td>\n",
       "    </tr>\n",
       "    <tr>\n",
       "      <th>4</th>\n",
       "      <td>0051d9b12e72_study</td>\n",
       "      <td>0</td>\n",
       "      <td>0</td>\n",
       "      <td>0</td>\n",
       "      <td>1</td>\n",
       "    </tr>\n",
       "  </tbody>\n",
       "</table>\n",
       "</div>"
      ],
      "text/plain": [
       "                   id  Negative for Pneumonia  Typical Appearance  \\\n",
       "0  00086460a852_study                       0                   1   \n",
       "1  000c9c05fd14_study                       0                   0   \n",
       "2  00292f8c37bd_study                       1                   0   \n",
       "3  005057b3f880_study                       1                   0   \n",
       "4  0051d9b12e72_study                       0                   0   \n",
       "\n",
       "   Indeterminate Appearance  Atypical Appearance  \n",
       "0                         0                    0  \n",
       "1                         0                    1  \n",
       "2                         0                    0  \n",
       "3                         0                    0  \n",
       "4                         0                    1  "
      ]
     },
     "execution_count": 3,
     "metadata": {},
     "output_type": "execute_result"
    }
   ],
   "source": [
    "df.head()"
   ]
  },
  {
   "cell_type": "code",
   "execution_count": 29,
   "id": "involved-verse",
   "metadata": {},
   "outputs": [
    {
     "name": "stdout",
     "output_type": "stream",
     "text": [
      "/workspace/data/train/00086460a852/9e8302230c91/65761e66de9f.dcm\n"
     ]
    }
   ],
   "source": [
    "for i in image_path_list:\n",
    "    if \"00086460a852\" in i:\n",
    "        print(i)"
   ]
  },
  {
   "cell_type": "code",
   "execution_count": 13,
   "id": "rough-mason",
   "metadata": {},
   "outputs": [
    {
     "data": {
      "text/plain": [
       "Index(['id', 'Negative for Pneumonia', 'Typical Appearance',\n",
       "       'Indeterminate Appearance', 'Atypical Appearance'],\n",
       "      dtype='object')"
      ]
     },
     "execution_count": 13,
     "metadata": {},
     "output_type": "execute_result"
    }
   ],
   "source": [
    "df.columns"
   ]
  },
  {
   "cell_type": "code",
   "execution_count": 8,
   "id": "legislative-mobility",
   "metadata": {},
   "outputs": [],
   "source": [
    "image_path_list = glob('/workspace/data/train/*/*/*.dcm')"
   ]
  },
  {
   "cell_type": "code",
   "execution_count": 17,
   "id": "smart-stress",
   "metadata": {},
   "outputs": [
    {
     "data": {
      "text/plain": [
       "'/workspace/data/train/eeecfd50b220/0fd96597c559/13131b0c3db4.dcm'"
      ]
     },
     "execution_count": 17,
     "metadata": {},
     "output_type": "execute_result"
    }
   ],
   "source": [
    "image_path_list[0]"
   ]
  },
  {
   "cell_type": "code",
   "execution_count": 18,
   "id": "opened-ethnic",
   "metadata": {},
   "outputs": [
    {
     "data": {
      "text/plain": [
       "'386aa41785fa_study'"
      ]
     },
     "execution_count": 18,
     "metadata": {},
     "output_type": "execute_result"
    }
   ],
   "source": [
    "image_path_list[1000].split(\"/\")[4]+\"_study\""
   ]
  },
  {
   "cell_type": "code",
   "execution_count": null,
   "id": "continent-lithuania",
   "metadata": {},
   "outputs": [],
   "source": []
  },
  {
   "cell_type": "code",
   "execution_count": 34,
   "id": "second-ownership",
   "metadata": {},
   "outputs": [],
   "source": [
    "id_list = []\n",
    "neg = []\n",
    "typ = []\n",
    "indete = []\n",
    "atyp = []\n",
    "dicom_path_list = []\n",
    "\n",
    "error = []\n",
    "\n",
    "for i in range(len(image_path_list)):\n",
    "    image_path = image_path_list[i]\n",
    "    study = image_path.split(\"/\")[4]\n",
    "    try:\n",
    "        row = df[df[\"id\"] == f\"{study}_study\"]\n",
    "\n",
    "        id_list += [f\"{study}_study\"]\n",
    "        neg += [row['Negative for Pneumonia']]\n",
    "        typ += [row['Typical Appearance']]\n",
    "        indete += [row['Indeterminate Appearance']]\n",
    "        atyp += [row['Atypical Appearance']]\n",
    "        dicom_path_list += [image_path]\n",
    "    except:\n",
    "        error.append(image_path)"
   ]
  },
  {
   "cell_type": "code",
   "execution_count": 39,
   "id": "labeled-digest",
   "metadata": {},
   "outputs": [],
   "source": [
    "df_train = pd.DataFrame({\n",
    "    'id': id_list,\n",
    "    'dicom_path': dicom_path_list\n",
    "}).merge(df, on='id', how='left')"
   ]
  },
  {
   "cell_type": "code",
   "execution_count": 40,
   "id": "stone-angel",
   "metadata": {},
   "outputs": [
    {
     "data": {
      "text/html": [
       "<div>\n",
       "<style scoped>\n",
       "    .dataframe tbody tr th:only-of-type {\n",
       "        vertical-align: middle;\n",
       "    }\n",
       "\n",
       "    .dataframe tbody tr th {\n",
       "        vertical-align: top;\n",
       "    }\n",
       "\n",
       "    .dataframe thead th {\n",
       "        text-align: right;\n",
       "    }\n",
       "</style>\n",
       "<table border=\"1\" class=\"dataframe\">\n",
       "  <thead>\n",
       "    <tr style=\"text-align: right;\">\n",
       "      <th></th>\n",
       "      <th>id</th>\n",
       "      <th>dicom_path</th>\n",
       "      <th>Negative for Pneumonia</th>\n",
       "      <th>Typical Appearance</th>\n",
       "      <th>Indeterminate Appearance</th>\n",
       "      <th>Atypical Appearance</th>\n",
       "    </tr>\n",
       "  </thead>\n",
       "  <tbody>\n",
       "    <tr>\n",
       "      <th>0</th>\n",
       "      <td>eeecfd50b220_study</td>\n",
       "      <td>/workspace/data/train/eeecfd50b220/0fd96597c55...</td>\n",
       "      <td>0</td>\n",
       "      <td>1</td>\n",
       "      <td>0</td>\n",
       "      <td>0</td>\n",
       "    </tr>\n",
       "    <tr>\n",
       "      <th>1</th>\n",
       "      <td>a89c1f3470e1_study</td>\n",
       "      <td>/workspace/data/train/a89c1f3470e1/c23cc53bdbf...</td>\n",
       "      <td>0</td>\n",
       "      <td>0</td>\n",
       "      <td>1</td>\n",
       "      <td>0</td>\n",
       "    </tr>\n",
       "    <tr>\n",
       "      <th>2</th>\n",
       "      <td>9cc2f64f0c58_study</td>\n",
       "      <td>/workspace/data/train/9cc2f64f0c58/2eebbe88278...</td>\n",
       "      <td>0</td>\n",
       "      <td>1</td>\n",
       "      <td>0</td>\n",
       "      <td>0</td>\n",
       "    </tr>\n",
       "    <tr>\n",
       "      <th>3</th>\n",
       "      <td>7b6c49da06db_study</td>\n",
       "      <td>/workspace/data/train/7b6c49da06db/c1fd5829f05...</td>\n",
       "      <td>0</td>\n",
       "      <td>1</td>\n",
       "      <td>0</td>\n",
       "      <td>0</td>\n",
       "    </tr>\n",
       "    <tr>\n",
       "      <th>4</th>\n",
       "      <td>d14080fd6f2a_study</td>\n",
       "      <td>/workspace/data/train/d14080fd6f2a/9d6098d515e...</td>\n",
       "      <td>0</td>\n",
       "      <td>1</td>\n",
       "      <td>0</td>\n",
       "      <td>0</td>\n",
       "    </tr>\n",
       "    <tr>\n",
       "      <th>...</th>\n",
       "      <td>...</td>\n",
       "      <td>...</td>\n",
       "      <td>...</td>\n",
       "      <td>...</td>\n",
       "      <td>...</td>\n",
       "      <td>...</td>\n",
       "    </tr>\n",
       "    <tr>\n",
       "      <th>6329</th>\n",
       "      <td>6bb38a2b98f0_study</td>\n",
       "      <td>/workspace/data/train/6bb38a2b98f0/70960f315ac...</td>\n",
       "      <td>0</td>\n",
       "      <td>1</td>\n",
       "      <td>0</td>\n",
       "      <td>0</td>\n",
       "    </tr>\n",
       "    <tr>\n",
       "      <th>6330</th>\n",
       "      <td>8501ffeadc53_study</td>\n",
       "      <td>/workspace/data/train/8501ffeadc53/0c640403081...</td>\n",
       "      <td>0</td>\n",
       "      <td>1</td>\n",
       "      <td>0</td>\n",
       "      <td>0</td>\n",
       "    </tr>\n",
       "    <tr>\n",
       "      <th>6331</th>\n",
       "      <td>c1ba4d912111_study</td>\n",
       "      <td>/workspace/data/train/c1ba4d912111/5d1e7b4f209...</td>\n",
       "      <td>0</td>\n",
       "      <td>1</td>\n",
       "      <td>0</td>\n",
       "      <td>0</td>\n",
       "    </tr>\n",
       "    <tr>\n",
       "      <th>6332</th>\n",
       "      <td>7e4059d6a0f9_study</td>\n",
       "      <td>/workspace/data/train/7e4059d6a0f9/ac80ee2496b...</td>\n",
       "      <td>1</td>\n",
       "      <td>0</td>\n",
       "      <td>0</td>\n",
       "      <td>0</td>\n",
       "    </tr>\n",
       "    <tr>\n",
       "      <th>6333</th>\n",
       "      <td>281d15ca6f64_study</td>\n",
       "      <td>/workspace/data/train/281d15ca6f64/7e638d2bd19...</td>\n",
       "      <td>0</td>\n",
       "      <td>1</td>\n",
       "      <td>0</td>\n",
       "      <td>0</td>\n",
       "    </tr>\n",
       "  </tbody>\n",
       "</table>\n",
       "<p>6334 rows × 6 columns</p>\n",
       "</div>"
      ],
      "text/plain": [
       "                      id                                         dicom_path  \\\n",
       "0     eeecfd50b220_study  /workspace/data/train/eeecfd50b220/0fd96597c55...   \n",
       "1     a89c1f3470e1_study  /workspace/data/train/a89c1f3470e1/c23cc53bdbf...   \n",
       "2     9cc2f64f0c58_study  /workspace/data/train/9cc2f64f0c58/2eebbe88278...   \n",
       "3     7b6c49da06db_study  /workspace/data/train/7b6c49da06db/c1fd5829f05...   \n",
       "4     d14080fd6f2a_study  /workspace/data/train/d14080fd6f2a/9d6098d515e...   \n",
       "...                  ...                                                ...   \n",
       "6329  6bb38a2b98f0_study  /workspace/data/train/6bb38a2b98f0/70960f315ac...   \n",
       "6330  8501ffeadc53_study  /workspace/data/train/8501ffeadc53/0c640403081...   \n",
       "6331  c1ba4d912111_study  /workspace/data/train/c1ba4d912111/5d1e7b4f209...   \n",
       "6332  7e4059d6a0f9_study  /workspace/data/train/7e4059d6a0f9/ac80ee2496b...   \n",
       "6333  281d15ca6f64_study  /workspace/data/train/281d15ca6f64/7e638d2bd19...   \n",
       "\n",
       "      Negative for Pneumonia  Typical Appearance  Indeterminate Appearance  \\\n",
       "0                          0                   1                         0   \n",
       "1                          0                   0                         1   \n",
       "2                          0                   1                         0   \n",
       "3                          0                   1                         0   \n",
       "4                          0                   1                         0   \n",
       "...                      ...                 ...                       ...   \n",
       "6329                       0                   1                         0   \n",
       "6330                       0                   1                         0   \n",
       "6331                       0                   1                         0   \n",
       "6332                       1                   0                         0   \n",
       "6333                       0                   1                         0   \n",
       "\n",
       "      Atypical Appearance  \n",
       "0                       0  \n",
       "1                       0  \n",
       "2                       0  \n",
       "3                       0  \n",
       "4                       0  \n",
       "...                   ...  \n",
       "6329                    0  \n",
       "6330                    0  \n",
       "6331                    0  \n",
       "6332                    0  \n",
       "6333                    0  \n",
       "\n",
       "[6334 rows x 6 columns]"
      ]
     },
     "execution_count": 40,
     "metadata": {},
     "output_type": "execute_result"
    }
   ],
   "source": [
    "df_train"
   ]
  },
  {
   "cell_type": "code",
   "execution_count": 42,
   "id": "accomplished-ballot",
   "metadata": {},
   "outputs": [
    {
     "name": "stdout",
     "output_type": "stream",
     "text": [
      "TRAIN: [   0    1    2 ... 6330 6332 6333] TEST: [  18   21   24 ... 6324 6327 6331]\n",
      "TRAIN: [   0    1    2 ... 6329 6331 6333] TEST: [  13   16   20 ... 6328 6330 6332]\n",
      "TRAIN: [   1    4    5 ... 6331 6332 6333] TEST: [   0    2    3 ... 6307 6313 6319]\n",
      "TRAIN: [   0    1    2 ... 6331 6332 6333] TEST: [   4    6    8 ... 6321 6325 6329]\n",
      "TRAIN: [   0    2    3 ... 6330 6331 6332] TEST: [   1    5    7 ... 6316 6322 6333]\n"
     ]
    },
    {
     "name": "stderr",
     "output_type": "stream",
     "text": [
      "/opt/conda/lib/python3.8/site-packages/sklearn/utils/validation.py:67: FutureWarning: Pass shuffle=True, random_state=516 as keyword args. From version 0.25 passing these as positional arguments will result in an error\n",
      "  warnings.warn(\"Pass {} as keyword args. From version 0.25 \"\n"
     ]
    }
   ],
   "source": [
    "from iterstrat.ml_stratifiers import MultilabelStratifiedKFold\n",
    "\n",
    "mskf = MultilabelStratifiedKFold(n_splits=5, shuffle=True, random_state=516)\n",
    "\n",
    "df_train[\"cv\"] = -1\n",
    "\n",
    "for cv, (train_index, test_index) in enumerate(mskf.split(df_train, df_train.loc[:, target_columns])):\n",
    "    print(\"TRAIN:\", train_index, \"TEST:\", test_index)\n",
    "    df_train.loc[test_index, \"cv\"] = cv"
   ]
  },
  {
   "cell_type": "code",
   "execution_count": 44,
   "id": "automotive-welcome",
   "metadata": {},
   "outputs": [
    {
     "data": {
      "text/plain": [
       "0    1267\n",
       "4    1267\n",
       "1    1267\n",
       "2    1267\n",
       "3    1266\n",
       "Name: cv, dtype: int64"
      ]
     },
     "execution_count": 44,
     "metadata": {},
     "output_type": "execute_result"
    }
   ],
   "source": [
    "df_train.cv.value_counts()"
   ]
  },
  {
   "cell_type": "code",
   "execution_count": 45,
   "id": "treated-iraqi",
   "metadata": {},
   "outputs": [],
   "source": [
    "df_train.to_csv('/workspace/data/df_train_study_level.csv', index=False)"
   ]
  },
  {
   "cell_type": "code",
   "execution_count": null,
   "id": "assumed-enforcement",
   "metadata": {},
   "outputs": [],
   "source": []
  }
 ],
 "metadata": {
  "kernelspec": {
   "display_name": "Python 3",
   "language": "python",
   "name": "python3"
  },
  "language_info": {
   "codemirror_mode": {
    "name": "ipython",
    "version": 3
   },
   "file_extension": ".py",
   "mimetype": "text/x-python",
   "name": "python",
   "nbconvert_exporter": "python",
   "pygments_lexer": "ipython3",
   "version": "3.8.3"
  }
 },
 "nbformat": 4,
 "nbformat_minor": 5
}
