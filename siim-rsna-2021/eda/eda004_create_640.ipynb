{
 "cells": [
  {
   "cell_type": "code",
   "execution_count": 1,
   "id": "strong-composer",
   "metadata": {},
   "outputs": [],
   "source": [
    "import pandas as pd\n",
    "import numpy as np\n",
    "import pydicom\n",
    "import cv2\n",
    "import matplotlib.pyplot as plt\n",
    "from tqdm import tqdm"
   ]
  },
  {
   "cell_type": "code",
   "execution_count": 2,
   "id": "lonely-vessel",
   "metadata": {},
   "outputs": [],
   "source": [
    "df = pd.read_csv('/workspace/data/df_train_study_level.csv')"
   ]
  },
  {
   "cell_type": "code",
   "execution_count": 7,
   "id": "secret-hepatitis",
   "metadata": {},
   "outputs": [],
   "source": [
    "save_path = \"/workspace/data/train_640/\""
   ]
  },
  {
   "cell_type": "code",
   "execution_count": 10,
   "id": "respiratory-extent",
   "metadata": {},
   "outputs": [
    {
     "name": "stderr",
     "output_type": "stream",
     "text": [
      "  3%|▎         | 159/6334 [00:06<03:42, 27.75it/s]/opt/conda/lib/python3.8/site-packages/pydicom/pixel_data_handlers/numpy_handler.py:341: UserWarning: The length of the pixel data in the dataset (13262360 bytes) indicates it contains excess padding. 216296 bytes will be removed from the end of the data\n",
      "  warnings.warn(msg)\n",
      "100%|██████████| 6334/6334 [05:06<00:00, 20.64it/s]\n"
     ]
    }
   ],
   "source": [
    "npy_path_list = []\n",
    "for i in tqdm(range(len(df))):\n",
    "#     if i == 4:\n",
    "#         break\n",
    "    dicom_path = df.dicom_path.values[i]\n",
    "    image = pydicom.read_file(dicom_path).pixel_array\n",
    "    image = cv2.resize(image, (640, 640)).astype(np.uint16)\n",
    "    \n",
    "    npy_path = save_path + dicom_path.split('/')[-1].replace(\"dcm\", \"npy\")\n",
    "    np.save(npy_path, image)\n",
    "    npy_path_list.append(npy_path)"
   ]
  },
  {
   "cell_type": "code",
   "execution_count": 11,
   "id": "industrial-document",
   "metadata": {},
   "outputs": [],
   "source": [
    "df[\"npy_path\"] = npy_path_list"
   ]
  },
  {
   "cell_type": "code",
   "execution_count": 12,
   "id": "measured-oxford",
   "metadata": {},
   "outputs": [],
   "source": [
    "df.to_csv('/workspace/data/df_train_study_level_npy640.csv')"
   ]
  },
  {
   "cell_type": "code",
   "execution_count": null,
   "id": "electronic-compatibility",
   "metadata": {},
   "outputs": [],
   "source": []
  },
  {
   "cell_type": "code",
   "execution_count": null,
   "id": "brown-training",
   "metadata": {},
   "outputs": [],
   "source": []
  },
  {
   "cell_type": "code",
   "execution_count": null,
   "id": "stock-breeding",
   "metadata": {},
   "outputs": [],
   "source": []
  },
  {
   "cell_type": "code",
   "execution_count": null,
   "id": "painful-wound",
   "metadata": {},
   "outputs": [],
   "source": []
  },
  {
   "cell_type": "code",
   "execution_count": null,
   "id": "perceived-examination",
   "metadata": {},
   "outputs": [],
   "source": []
  },
  {
   "cell_type": "code",
   "execution_count": null,
   "id": "varied-prompt",
   "metadata": {},
   "outputs": [],
   "source": []
  }
 ],
 "metadata": {
  "kernelspec": {
   "display_name": "Python 3",
   "language": "python",
   "name": "python3"
  },
  "language_info": {
   "codemirror_mode": {
    "name": "ipython",
    "version": 3
   },
   "file_extension": ".py",
   "mimetype": "text/x-python",
   "name": "python",
   "nbconvert_exporter": "python",
   "pygments_lexer": "ipython3",
   "version": "3.8.3"
  }
 },
 "nbformat": 4,
 "nbformat_minor": 5
}
