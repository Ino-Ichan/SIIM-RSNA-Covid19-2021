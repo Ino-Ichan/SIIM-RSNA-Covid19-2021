{
 "cells": [
  {
   "cell_type": "markdown",
   "id": "advisory-singles",
   "metadata": {},
   "source": [
    "https://www.kaggle.com/xhlulu/siim-covid-19-convert-to-jpg-256px"
   ]
  },
  {
   "cell_type": "code",
   "execution_count": 1,
   "id": "collected-lancaster",
   "metadata": {},
   "outputs": [],
   "source": [
    "import pandas as pd\n",
    "import numpy as np\n",
    "import pydicom\n",
    "import cv2\n",
    "import matplotlib.pyplot as plt\n",
    "from tqdm import tqdm\n",
    "\n",
    "import os"
   ]
  },
  {
   "cell_type": "code",
   "execution_count": 2,
   "id": "innovative-petite",
   "metadata": {},
   "outputs": [],
   "source": [
    "df = pd.read_csv('/workspace/data/df_train_study_level.csv')"
   ]
  },
  {
   "cell_type": "code",
   "execution_count": 3,
   "id": "violent-singer",
   "metadata": {},
   "outputs": [],
   "source": [
    "save_path = \"/workspace/data/train_640_2/\"\n",
    "if os.path.exists(save_path) == False:\n",
    "    os.makedirs(save_path)"
   ]
  },
  {
   "cell_type": "code",
   "execution_count": 4,
   "id": "metric-advancement",
   "metadata": {},
   "outputs": [],
   "source": [
    "import numpy as np\n",
    "import pydicom\n",
    "from pydicom.pixel_data_handlers.util import apply_voi_lut\n",
    "\n",
    "def save_xray(path, voi_lut = True, fix_monochrome = True):\n",
    "    # Original from: https://www.kaggle.com/raddar/convert-dicom-to-np-array-the-correct-way\n",
    "    dicom = pydicom.read_file(path)\n",
    "    \n",
    "    # VOI LUT (if available by DICOM device) is used to transform raw DICOM data to \n",
    "    # \"human-friendly\" view\n",
    "    if voi_lut:\n",
    "        data = apply_voi_lut(dicom.pixel_array, dicom)\n",
    "    else:\n",
    "        data = dicom.pixel_array\n",
    "               \n",
    "    # depending on this value, X-ray may look inverted - fix that:\n",
    "    if fix_monochrome and dicom.PhotometricInterpretation == \"MONOCHROME1\":\n",
    "        data = np.amax(data) - data\n",
    "        \n",
    "    data = data - np.min(data)\n",
    "    data = data / np.max(data)\n",
    "    data = (data * 255).astype(np.uint8)\n",
    "    \n",
    "    png_path = save_path + path.split('/')[-1].replace(\"dcm\", \"png\")\n",
    "    cv2.imwrite(png_path, data)"
   ]
  },
  {
   "cell_type": "code",
   "execution_count": 5,
   "id": "immediate-structure",
   "metadata": {},
   "outputs": [],
   "source": [
    "dicom_path_list = df.dicom_path"
   ]
  },
  {
   "cell_type": "code",
   "execution_count": 7,
   "id": "sticky-tribune",
   "metadata": {},
   "outputs": [
    {
     "name": "stderr",
     "output_type": "stream",
     "text": [
      "  3%|▎         | 161/6334 [00:05<03:17, 31.21it/s]/opt/conda/lib/python3.8/site-packages/pydicom/pixel_data_handlers/numpy_handler.py:341: UserWarning: The length of the pixel data in the dataset (13262360 bytes) indicates it contains excess padding. 216296 bytes will be removed from the end of the data\n",
      "  warnings.warn(msg)\n",
      "100%|██████████| 6334/6334 [04:35<00:00, 23.00it/s]\n"
     ]
    }
   ],
   "source": [
    "from multiprocessing import Pool\n",
    "import time\n",
    "\n",
    "pool = Pool(processes=10)\n",
    "\n",
    "with tqdm(total=len(dicom_path_list)) as t:\n",
    "    for _ in pool.imap_unordered(save_xray, dicom_path_list):\n",
    "        t.update(1)"
   ]
  },
  {
   "cell_type": "code",
   "execution_count": 10,
   "id": "computational-preliminary",
   "metadata": {},
   "outputs": [],
   "source": [
    "df[\"npy_path\"] = [save_path + path.split('/')[-1].replace(\"dcm\", \"png\") for path in df[\"dicom_path\"]]"
   ]
  },
  {
   "cell_type": "code",
   "execution_count": 11,
   "id": "suspected-fleet",
   "metadata": {},
   "outputs": [],
   "source": [
    "df.to_csv('/workspace/data/df_train_study_level_npy640_2.csv')"
   ]
  },
  {
   "cell_type": "code",
   "execution_count": null,
   "id": "interested-tucson",
   "metadata": {},
   "outputs": [],
   "source": []
  },
  {
   "cell_type": "code",
   "execution_count": null,
   "id": "diverse-jacket",
   "metadata": {},
   "outputs": [],
   "source": []
  },
  {
   "cell_type": "code",
   "execution_count": null,
   "id": "prerequisite-foundation",
   "metadata": {},
   "outputs": [],
   "source": []
  },
  {
   "cell_type": "code",
   "execution_count": null,
   "id": "purple-conflict",
   "metadata": {},
   "outputs": [],
   "source": []
  },
  {
   "cell_type": "code",
   "execution_count": null,
   "id": "strange-despite",
   "metadata": {},
   "outputs": [],
   "source": []
  },
  {
   "cell_type": "code",
   "execution_count": null,
   "id": "responsible-monroe",
   "metadata": {},
   "outputs": [],
   "source": []
  }
 ],
 "metadata": {
  "kernelspec": {
   "display_name": "Python 3",
   "language": "python",
   "name": "python3"
  },
  "language_info": {
   "codemirror_mode": {
    "name": "ipython",
    "version": 3
   },
   "file_extension": ".py",
   "mimetype": "text/x-python",
   "name": "python",
   "nbconvert_exporter": "python",
   "pygments_lexer": "ipython3",
   "version": "3.8.3"
  }
 },
 "nbformat": 4,
 "nbformat_minor": 5
}
