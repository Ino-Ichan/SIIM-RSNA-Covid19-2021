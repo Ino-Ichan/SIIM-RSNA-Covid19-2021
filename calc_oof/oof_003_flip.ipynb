{
 "cells": [
  {
   "cell_type": "code",
   "execution_count": 1,
   "id": "dcdaa0b8",
   "metadata": {},
   "outputs": [],
   "source": [
    "import matplotlib.pyplot as plt\n",
    "import seaborn as sns\n",
    "import numpy as np\n",
    "import pandas as pd\n",
    "import random\n",
    "import torch\n",
    "from torch import nn, optim\n",
    "from torch.utils.data import DataLoader, Dataset\n",
    "from torch.utils.tensorboard import SummaryWriter\n",
    "from torch.cuda.amp import GradScaler, autocast\n",
    "\n",
    "import cv2\n",
    "\n",
    "import albumentations\n",
    "from albumentations.pytorch import ToTensorV2\n",
    "\n",
    "from sklearn.metrics import confusion_matrix, roc_auc_score, average_precision_score\n",
    "\n",
    "from tqdm import tqdm\n",
    "import argparse\n",
    "import os, sys, yaml\n",
    "\n",
    "sys.path.append('/workspace/siim-rsna-2021')\n",
    "from src.logger import setup_logger, LOGGER\n",
    "from src.meter import mAPMeter, AUCMeter, APMeter, AverageValueMeter\n",
    "from src.utils import plot_sample_images\n",
    "from src.segloss import SymmetricLovaszLoss\n",
    "\n",
    "\n",
    "# import neptune.new as neptune\n",
    "import wandb\n",
    "import pydicom\n",
    "\n",
    "import time\n",
    "from contextlib import contextmanager\n",
    "\n",
    "import timm\n",
    "\n",
    "import warnings\n",
    "\n",
    "target_columns = [\n",
    "    \"Negative for Pneumonia\", \"Typical Appearance\", \"Indeterminate Appearance\", \"Atypical Appearance\", \"is_none\"\n",
    "]\n",
    "\n",
    "\n",
    "@contextmanager\n",
    "def timer(name):\n",
    "    t0 = time.time()\n",
    "    yield\n",
    "    print(f'[{name}] done in {time.time() - t0:.0f} s')"
   ]
  },
  {
   "cell_type": "code",
   "execution_count": 2,
   "id": "d3d0b8f2",
   "metadata": {},
   "outputs": [],
   "source": [
    "from exp.exp414.train import Net as Net414\n",
    "from exp.exp415.train import Net as Net415\n",
    "from exp.exp416.train import Net as Net416\n",
    "from exp.exp417.train import Net as Net417\n",
    "\n",
    "from exp.exp418.train import Net as Net418\n",
    "from exp.exp419.train import Net as Net419\n",
    "from exp.exp420.train import Net as Net420\n",
    "\n",
    "from exp.exp520.train import Net as Net520\n",
    "from exp.exp551.train import Net as Net551\n",
    "from exp.exp552.train import Net as Net552\n",
    "from exp.exp553.train import Net as Net553\n",
    "\n",
    "from exp.exp604.train import Net as Net604\n",
    "from exp.exp605.train import Net as Net605\n",
    "from exp.exp606.train import Net as Net606"
   ]
  },
  {
   "cell_type": "code",
   "execution_count": 3,
   "id": "de884760",
   "metadata": {},
   "outputs": [],
   "source": [
    "class CustomDataset(Dataset):\n",
    "    def __init__(self,\n",
    "                 df,\n",
    "                 image_size=512,\n",
    "                 transform=None,\n",
    "                 ):\n",
    "        self.df = df\n",
    "        self.image_size = image_size\n",
    "        self.transform = transform\n",
    "        self.cols = target_columns\n",
    "\n",
    "    def __len__(self):\n",
    "        return self.df.shape[0]\n",
    "\n",
    "    def __getitem__(self, index):\n",
    "        row = self.df.iloc[index]\n",
    "        images = cv2.imread(row.npy_path)\n",
    "\n",
    "        # original image size\n",
    "        original_h = images.shape[0]\n",
    "        original_w = images.shape[1]\n",
    "        images = cv2.resize(images, (512, 512))\n",
    "\n",
    "        if self.transform is not None:\n",
    "            aug = self.transform(image=images)\n",
    "            images_only = aug['image'].astype(np.float32).transpose(2, 0, 1) / 255\n",
    "        return {\n",
    "            \"image\": torch.tensor(images_only, dtype=torch.float),\n",
    "        }\n"
   ]
  },
  {
   "cell_type": "code",
   "execution_count": 4,
   "id": "4c7424a3",
   "metadata": {},
   "outputs": [],
   "source": [
    "def get_val_transforms(image_size=512):\n",
    "    return albumentations.Compose([\n",
    "        albumentations.Resize(image_size, image_size),\n",
    "])"
   ]
  },
  {
   "cell_type": "code",
   "execution_count": 5,
   "id": "883ca5e8",
   "metadata": {},
   "outputs": [],
   "source": [
    "study_sub_list = [\n",
    "\n",
    "    # prediction set, b6 mask\n",
    "    [\n",
    "        # backbone\n",
    "        Net414(\"tf_efficientnetv2_m_in21k\"),\n",
    "        \"tf_efficientnetv2_m_in21k\",\n",
    "        # img_size\n",
    "        512,\n",
    "        # weight list\n",
    "        [\n",
    "            \"/workspace/output/exp414/model/cv0_weight_checkpoint_best.pth\",\n",
    "            \"/workspace/output/exp414/model/cv1_weight_checkpoint_best.pth\",\n",
    "            \"/workspace/output/exp414/model/cv2_weight_checkpoint_best.pth\",\n",
    "            \"/workspace/output/exp414/model/cv3_weight_checkpoint_best.pth\",\n",
    "            \"/workspace/output/exp414/model/cv4_weight_checkpoint_best.pth\",\n",
    "        ],\n",
    "        \"exp414_hflip\"\n",
    "    ],\n",
    "    \n",
    "    # prediction set, b6 mask\n",
    "    [\n",
    "        # backbone\n",
    "        Net415(\"tf_efficientnetv2_m_in21k\"),\n",
    "        \"tf_efficientnetv2_m_in21k\",\n",
    "        # img_size\n",
    "        512,\n",
    "        # weight list\n",
    "        [\n",
    "            \"/workspace/output/exp415/model/cv0_weight_checkpoint_best.pth\",\n",
    "            \"/workspace/output/exp415/model/cv1_weight_checkpoint_best.pth\",\n",
    "            \"/workspace/output/exp415/model/cv2_weight_checkpoint_best.pth\",\n",
    "            \"/workspace/output/exp415/model/cv3_weight_checkpoint_best.pth\",\n",
    "            \"/workspace/output/exp415/model/cv4_weight_checkpoint_best.pth\",\n",
    "        ],\n",
    "        \"exp415_hflip\"\n",
    "    ],\n",
    "\n",
    "    # prediction set, b7 mask\n",
    "    [\n",
    "        # backbone\n",
    "        Net416(\"tf_efficientnetv2_m_in21k\"),\n",
    "        \"tf_efficientnetv2_m_in21k\",\n",
    "        # img_size\n",
    "        512,\n",
    "        # weight list\n",
    "        [\n",
    "            \"/workspace/output/exp416/model/cv0_weight_checkpoint_best.pth\",\n",
    "            \"/workspace/output/exp416/model/cv1_weight_checkpoint_best.pth\",\n",
    "            \"/workspace/output/exp416/model/cv2_weight_checkpoint_best.pth\",\n",
    "            \"/workspace/output/exp416/model/cv3_weight_checkpoint_best.pth\",\n",
    "            \"/workspace/output/exp416/model/cv4_weight_checkpoint_best.pth\",\n",
    "        ],\n",
    "        \"exp416_hflip\"\n",
    "    ],\n",
    "    \n",
    "    # prediction set, b6 mask\n",
    "    [\n",
    "        # backbone\n",
    "        Net417(\"tf_efficientnetv2_m_in21k\"),\n",
    "        \"tf_efficientnetv2_m_in21k\",\n",
    "        # img_size\n",
    "        512,\n",
    "        # weight list\n",
    "        [\n",
    "            \"/workspace/output/exp417/model/cv0_weight_checkpoint_best.pth\",\n",
    "            \"/workspace/output/exp417/model/cv1_weight_checkpoint_best.pth\",\n",
    "            \"/workspace/output/exp417/model/cv2_weight_checkpoint_best.pth\",\n",
    "            \"/workspace/output/exp417/model/cv3_weight_checkpoint_best.pth\",\n",
    "            \"/workspace/output/exp417/model/cv4_weight_checkpoint_best.pth\",\n",
    "        ],\n",
    "        \"exp417_hflip\"\n",
    "    ],\n",
    "\n",
    "    # ===========================================\n",
    "    # Eff v2 L\n",
    "    # ===========================================\n",
    "\n",
    "\n",
    "    # prediction set, b7 map\n",
    "    [\n",
    "        # backbone\n",
    "        Net419(\"tf_efficientnetv2_l_in21k\"),\n",
    "        \"tf_efficientnetv2_l_in21k\",\n",
    "        # img_size\n",
    "        512,\n",
    "        # weight list\n",
    "        [\n",
    "            \"/workspace/output/exp419/model/cv0_weight_checkpoint_best.pth\",\n",
    "            \"/workspace/output/exp419/model/cv1_weight_checkpoint_best.pth\",\n",
    "            \"/workspace/output/exp419/model/cv2_weight_checkpoint_best.pth\",\n",
    "            \"/workspace/output/exp419/model/cv3_weight_checkpoint_best.pth\",\n",
    "            \"/workspace/output/exp419/model/cv4_weight_checkpoint_best.pth\",\n",
    "        ],\n",
    "        \"exp419_hflip\"\n",
    "    ],\n",
    "\n",
    "    # prediction set, b6, b7\n",
    "    [\n",
    "        # backbone\n",
    "        Net420(\"tf_efficientnetv2_l_in21k\"),\n",
    "        \"tf_efficientnetv2_l_in21k\",\n",
    "        # img_size\n",
    "        512,\n",
    "        # weight list\n",
    "        [\n",
    "            \"/workspace/output/exp420/model/cv0_weight_checkpoint_best.pth\",\n",
    "            \"/workspace/output/exp420/model/cv1_weight_checkpoint_best.pth\",\n",
    "            \"/workspace/output/exp420/model/cv2_weight_checkpoint_best.pth\",\n",
    "            \"/workspace/output/exp420/model/cv3_weight_checkpoint_best.pth\",\n",
    "            \"/workspace/output/exp420/model/cv4_weight_checkpoint_best.pth\",\n",
    "        ],\n",
    "        \"exp420_hflip\"\n",
    "    ],\n",
    "    \n",
    "    # prediction set, b6, b7\n",
    "    [\n",
    "        # backbone\n",
    "        Net420(\"tf_efficientnetv2_l_in21k\"),\n",
    "        \"tf_efficientnetv2_l_in21k\",\n",
    "        # img_size\n",
    "        512,\n",
    "        # weight list\n",
    "        [\n",
    "            \"/workspace/output/exp520/model/cv0_weight_checkpoint_best.pth\",\n",
    "            \"/workspace/output/exp520/model/cv1_weight_checkpoint_best.pth\",\n",
    "            \"/workspace/output/exp520/model/cv2_weight_checkpoint_best.pth\",\n",
    "            \"/workspace/output/exp520/model/cv3_weight_checkpoint_best.pth\",\n",
    "            \"/workspace/output/exp520/model/cv4_weight_checkpoint_best.pth\",\n",
    "        ],\n",
    "        \"exp520_hflip\"\n",
    "    ],\n",
    "    \n",
    "    # prediction set, b6\n",
    "    [\n",
    "        # backbone\n",
    "        Net418(\"tf_efficientnetv2_l_in21k\"),\n",
    "        \"tf_efficientnetv2_l_in21k\",\n",
    "        # img_size\n",
    "        512,\n",
    "        # weight list\n",
    "        [\n",
    "            \"/workspace/output/exp551/model/cv0_weight_checkpoint_best.pth\",\n",
    "            \"/workspace/output/exp551/model/cv1_weight_checkpoint_best.pth\",\n",
    "            \"/workspace/output/exp551/model/cv2_weight_checkpoint_best.pth\",\n",
    "            \"/workspace/output/exp551/model/cv3_weight_checkpoint_best.pth\",\n",
    "            \"/workspace/output/exp551/model/cv4_weight_checkpoint_best.pth\",\n",
    "        ],\n",
    "        \"exp551_hflip\"\n",
    "    ],\n",
    "    \n",
    "    # prediction set, b6\n",
    "    [\n",
    "        # backbone\n",
    "        Net552(\"tf_efficientnetv2_l_in21k\"),\n",
    "        \"tf_efficientnetv2_l_in21k\",\n",
    "        # img_size\n",
    "        512,\n",
    "        # weight list\n",
    "        [\n",
    "            \"/workspace/output/exp552/model/cv0_weight_checkpoint_best.pth\",\n",
    "            \"/workspace/output/exp552/model/cv1_weight_checkpoint_best.pth\",\n",
    "            \"/workspace/output/exp552/model/cv2_weight_checkpoint_best.pth\",\n",
    "            \"/workspace/output/exp552/model/cv3_weight_checkpoint_best.pth\",\n",
    "            \"/workspace/output/exp552/model/cv4_weight_checkpoint_best.pth\",\n",
    "        ],\n",
    "        \"exp552_hflip\"\n",
    "    ],\n",
    "    \n",
    "    # prediction set, b6\n",
    "    [\n",
    "        # backbone\n",
    "        Net553(\"tf_efficientnetv2_l_in21k\"),\n",
    "        \"tf_efficientnetv2_l_in21k\",\n",
    "        # img_size\n",
    "        512,\n",
    "        # weight list\n",
    "        [\n",
    "            \"/workspace/output/exp553/model/cv0_weight_checkpoint_best.pth\",\n",
    "            \"/workspace/output/exp553/model/cv1_weight_checkpoint_best.pth\",\n",
    "            \"/workspace/output/exp553/model/cv2_weight_checkpoint_best.pth\",\n",
    "            \"/workspace/output/exp553/model/cv3_weight_checkpoint_best.pth\",\n",
    "            \"/workspace/output/exp553/model/cv4_weight_checkpoint_best.pth\",\n",
    "        ],\n",
    "        \"exp553_hflip\"\n",
    "    ],\n",
    "\n",
    "    # ===========================================\n",
    "    # Swin transformer\n",
    "    # ===========================================\n",
    "\n",
    "    # prediction set\n",
    "    [\n",
    "        # backbone\n",
    "        Net604(\"swin_base_patch4_window12_384\"),\n",
    "        \"swin_base_patch4_window12_384\",\n",
    "        # img_size\n",
    "        384,\n",
    "        # weight list\n",
    "        [\n",
    "            \"/workspace/output/exp604/model/cv0_weight_checkpoint_best.pth\",\n",
    "            \"/workspace/output/exp604/model/cv1_weight_checkpoint_best.pth\",\n",
    "            \"/workspace/output/exp604/model/cv2_weight_checkpoint_best.pth\",\n",
    "            \"/workspace/output/exp604/model/cv3_weight_checkpoint_best.pth\",\n",
    "            \"/workspace/output/exp604/model/cv4_weight_checkpoint_best.pth\",\n",
    "        ],\n",
    "        \"exp604_hflip\"\n",
    "    ],\n",
    "    \n",
    "    # prediction set\n",
    "    [\n",
    "        # backbone\n",
    "        Net605(\"swin_base_patch4_window12_384\"),\n",
    "        \"swin_base_patch4_window12_384\",\n",
    "        # img_size\n",
    "        384,\n",
    "        # weight list\n",
    "        [\n",
    "            \"/workspace/output/exp605/model/cv0_weight_checkpoint_best.pth\",\n",
    "            \"/workspace/output/exp605/model/cv1_weight_checkpoint_best.pth\",\n",
    "            \"/workspace/output/exp605/model/cv2_weight_checkpoint_best.pth\",\n",
    "            \"/workspace/output/exp605/model/cv3_weight_checkpoint_best.pth\",\n",
    "            \"/workspace/output/exp605/model/cv4_weight_checkpoint_best.pth\",\n",
    "        ],\n",
    "        \"exp605_hflip\"\n",
    "    ],\n",
    "    \n",
    "    # prediction set\n",
    "    [\n",
    "        # backbone\n",
    "        Net606(\"swin_base_patch4_window12_384\"),\n",
    "        \"swin_base_patch4_window12_384\",\n",
    "        # img_size\n",
    "        384,\n",
    "        # weight list\n",
    "        [\n",
    "            \"/workspace/output/exp606/model/cv0_weight_checkpoint_best.pth\",\n",
    "            \"/workspace/output/exp606/model/cv1_weight_checkpoint_best.pth\",\n",
    "            \"/workspace/output/exp606/model/cv2_weight_checkpoint_best.pth\",\n",
    "            \"/workspace/output/exp606/model/cv3_weight_checkpoint_best.pth\",\n",
    "            \"/workspace/output/exp606/model/cv4_weight_checkpoint_best.pth\",\n",
    "        ],\n",
    "        \"exp606_hflip\"\n",
    "    ],\n",
    "    \n",
    "    \n",
    "\n",
    "]"
   ]
  },
  {
   "cell_type": "code",
   "execution_count": 6,
   "id": "2a3d16dc",
   "metadata": {},
   "outputs": [],
   "source": [
    "device = \"cuda:1\"\n",
    "hflip = True"
   ]
  },
  {
   "cell_type": "code",
   "execution_count": null,
   "id": "5035e281",
   "metadata": {},
   "outputs": [],
   "source": []
  },
  {
   "cell_type": "code",
   "execution_count": 7,
   "id": "d895dd7a",
   "metadata": {},
   "outputs": [],
   "source": [
    "df_original = pd.read_csv(\"/workspace/data/df_train_study_level_npy640_3_w_bbox.csv\")\n",
    "df = df_original.groupby('image_id').first().reset_index()"
   ]
  },
  {
   "cell_type": "code",
   "execution_count": 9,
   "id": "d92904eb",
   "metadata": {
    "scrolled": true,
    "tags": []
   },
   "outputs": [
    {
     "name": "stderr",
     "output_type": "stream",
     "text": [
      "  0%|          | 0/13 [00:00<?, ?it/s]\n",
      "0it [00:00, ?it/s]\u001b[A\n",
      "1it [01:57, 117.82s/it]\u001b[A"
     ]
    },
    {
     "name": "stdout",
     "output_type": "stream",
     "text": [
      "preds.shape: (1223, 5)\n"
     ]
    },
    {
     "name": "stderr",
     "output_type": "stream",
     "text": [
      "\n",
      "2it [03:53, 117.31s/it]\u001b[A"
     ]
    },
    {
     "name": "stdout",
     "output_type": "stream",
     "text": [
      "preds.shape: (1220, 5)\n"
     ]
    },
    {
     "name": "stderr",
     "output_type": "stream",
     "text": [
      "\n",
      "3it [05:51, 117.28s/it]\u001b[A"
     ]
    },
    {
     "name": "stdout",
     "output_type": "stream",
     "text": [
      "preds.shape: (1221, 5)\n"
     ]
    },
    {
     "name": "stderr",
     "output_type": "stream",
     "text": [
      "\n",
      "4it [07:54, 119.14s/it]\u001b[A"
     ]
    },
    {
     "name": "stdout",
     "output_type": "stream",
     "text": [
      "preds.shape: (1228, 5)\n"
     ]
    },
    {
     "name": "stderr",
     "output_type": "stream",
     "text": [
      "\n",
      "5it [09:56, 119.30s/it]\u001b[A\n",
      "  8%|▊         | 1/13 [09:56<1:59:17, 596.49s/it]\n",
      "0it [00:00, ?it/s]\u001b[A"
     ]
    },
    {
     "name": "stdout",
     "output_type": "stream",
     "text": [
      "preds.shape: (1225, 5)\n"
     ]
    },
    {
     "name": "stderr",
     "output_type": "stream",
     "text": [
      "\n",
      "1it [02:02, 122.40s/it]\u001b[A"
     ]
    },
    {
     "name": "stdout",
     "output_type": "stream",
     "text": [
      "preds.shape: (1223, 5)\n"
     ]
    },
    {
     "name": "stderr",
     "output_type": "stream",
     "text": [
      "\n",
      "2it [03:56, 119.77s/it]\u001b[A"
     ]
    },
    {
     "name": "stdout",
     "output_type": "stream",
     "text": [
      "preds.shape: (1220, 5)\n"
     ]
    },
    {
     "name": "stderr",
     "output_type": "stream",
     "text": [
      "\n",
      "3it [05:49, 117.94s/it]\u001b[A"
     ]
    },
    {
     "name": "stdout",
     "output_type": "stream",
     "text": [
      "preds.shape: (1221, 5)\n"
     ]
    },
    {
     "name": "stderr",
     "output_type": "stream",
     "text": [
      "\n",
      "4it [07:46, 117.74s/it]\u001b[A"
     ]
    },
    {
     "name": "stdout",
     "output_type": "stream",
     "text": [
      "preds.shape: (1228, 5)\n"
     ]
    },
    {
     "name": "stderr",
     "output_type": "stream",
     "text": [
      "\n",
      "5it [09:47, 117.51s/it]\u001b[A\n",
      " 15%|█▌        | 2/13 [19:44<1:48:51, 593.80s/it]\n",
      "0it [00:00, ?it/s]\u001b[A"
     ]
    },
    {
     "name": "stdout",
     "output_type": "stream",
     "text": [
      "preds.shape: (1225, 5)\n"
     ]
    },
    {
     "name": "stderr",
     "output_type": "stream",
     "text": [
      "\n",
      "1it [01:55, 115.67s/it]\u001b[A"
     ]
    },
    {
     "name": "stdout",
     "output_type": "stream",
     "text": [
      "preds.shape: (1223, 5)\n"
     ]
    },
    {
     "name": "stderr",
     "output_type": "stream",
     "text": [
      "\n",
      "2it [03:51, 115.76s/it]\u001b[A"
     ]
    },
    {
     "name": "stdout",
     "output_type": "stream",
     "text": [
      "preds.shape: (1220, 5)\n"
     ]
    },
    {
     "name": "stderr",
     "output_type": "stream",
     "text": [
      "\n",
      "3it [05:48, 116.04s/it]\u001b[A"
     ]
    },
    {
     "name": "stdout",
     "output_type": "stream",
     "text": [
      "preds.shape: (1221, 5)\n"
     ]
    },
    {
     "name": "stderr",
     "output_type": "stream",
     "text": [
      "\n",
      "4it [07:49, 117.72s/it]\u001b[A"
     ]
    },
    {
     "name": "stdout",
     "output_type": "stream",
     "text": [
      "preds.shape: (1228, 5)\n"
     ]
    },
    {
     "name": "stderr",
     "output_type": "stream",
     "text": [
      "\n",
      "5it [09:50, 118.13s/it]\u001b[A\n",
      " 23%|██▎       | 3/13 [29:34<1:38:48, 592.86s/it]\n",
      "0it [00:00, ?it/s]\u001b[A"
     ]
    },
    {
     "name": "stdout",
     "output_type": "stream",
     "text": [
      "preds.shape: (1225, 5)\n"
     ]
    },
    {
     "name": "stderr",
     "output_type": "stream",
     "text": [
      "\n",
      "1it [01:57, 117.12s/it]\u001b[A"
     ]
    },
    {
     "name": "stdout",
     "output_type": "stream",
     "text": [
      "preds.shape: (1223, 5)\n"
     ]
    },
    {
     "name": "stderr",
     "output_type": "stream",
     "text": [
      "\n",
      "2it [03:58, 118.42s/it]\u001b[A"
     ]
    },
    {
     "name": "stdout",
     "output_type": "stream",
     "text": [
      "preds.shape: (1220, 5)\n"
     ]
    },
    {
     "name": "stderr",
     "output_type": "stream",
     "text": [
      "\n",
      "3it [05:56, 118.16s/it]\u001b[A"
     ]
    },
    {
     "name": "stdout",
     "output_type": "stream",
     "text": [
      "preds.shape: (1221, 5)\n"
     ]
    },
    {
     "name": "stderr",
     "output_type": "stream",
     "text": [
      "\n",
      "4it [07:55, 118.41s/it]\u001b[A"
     ]
    },
    {
     "name": "stdout",
     "output_type": "stream",
     "text": [
      "preds.shape: (1228, 5)\n"
     ]
    },
    {
     "name": "stderr",
     "output_type": "stream",
     "text": [
      "\n",
      "5it [09:53, 118.80s/it]\u001b[A\n",
      " 31%|███       | 4/13 [39:28<1:28:58, 593.20s/it]\n",
      "0it [00:00, ?it/s]\u001b[A"
     ]
    },
    {
     "name": "stdout",
     "output_type": "stream",
     "text": [
      "preds.shape: (1225, 5)\n"
     ]
    },
    {
     "name": "stderr",
     "output_type": "stream",
     "text": [
      "\n",
      "1it [02:17, 137.82s/it]\u001b[A"
     ]
    },
    {
     "name": "stdout",
     "output_type": "stream",
     "text": [
      "preds.shape: (1223, 5)\n"
     ]
    },
    {
     "name": "stderr",
     "output_type": "stream",
     "text": [
      "\n",
      "2it [04:41, 139.57s/it]\u001b[A"
     ]
    },
    {
     "name": "stdout",
     "output_type": "stream",
     "text": [
      "preds.shape: (1220, 5)\n"
     ]
    },
    {
     "name": "stderr",
     "output_type": "stream",
     "text": [
      "\n",
      "3it [06:58, 138.69s/it]\u001b[A"
     ]
    },
    {
     "name": "stdout",
     "output_type": "stream",
     "text": [
      "preds.shape: (1221, 5)\n"
     ]
    },
    {
     "name": "stderr",
     "output_type": "stream",
     "text": [
      "\n",
      "4it [09:18, 139.29s/it]\u001b[A"
     ]
    },
    {
     "name": "stdout",
     "output_type": "stream",
     "text": [
      "preds.shape: (1228, 5)\n"
     ]
    },
    {
     "name": "stderr",
     "output_type": "stream",
     "text": [
      "\n",
      "5it [11:43, 140.67s/it]\u001b[A\n",
      " 38%|███▊      | 5/13 [51:11<1:23:29, 626.24s/it]\n",
      "0it [00:00, ?it/s]\u001b[A"
     ]
    },
    {
     "name": "stdout",
     "output_type": "stream",
     "text": [
      "preds.shape: (1225, 5)\n"
     ]
    },
    {
     "name": "stderr",
     "output_type": "stream",
     "text": [
      "\n",
      "1it [02:21, 141.52s/it]\u001b[A"
     ]
    },
    {
     "name": "stdout",
     "output_type": "stream",
     "text": [
      "preds.shape: (1223, 5)\n"
     ]
    },
    {
     "name": "stderr",
     "output_type": "stream",
     "text": [
      "\n",
      "2it [04:45, 142.14s/it]\u001b[A"
     ]
    },
    {
     "name": "stdout",
     "output_type": "stream",
     "text": [
      "preds.shape: (1220, 5)\n"
     ]
    },
    {
     "name": "stderr",
     "output_type": "stream",
     "text": [
      "\n",
      "3it [07:08, 142.52s/it]\u001b[A"
     ]
    },
    {
     "name": "stdout",
     "output_type": "stream",
     "text": [
      "preds.shape: (1221, 5)\n"
     ]
    },
    {
     "name": "stderr",
     "output_type": "stream",
     "text": [
      "\n",
      "4it [09:33, 143.31s/it]\u001b[A"
     ]
    },
    {
     "name": "stdout",
     "output_type": "stream",
     "text": [
      "preds.shape: (1228, 5)\n"
     ]
    },
    {
     "name": "stderr",
     "output_type": "stream",
     "text": [
      "\n",
      "5it [11:54, 142.81s/it]\u001b[A\n",
      " 46%|████▌     | 6/13 [1:03:06<1:16:08, 652.58s/it]\n",
      "0it [00:00, ?it/s]\u001b[A"
     ]
    },
    {
     "name": "stdout",
     "output_type": "stream",
     "text": [
      "preds.shape: (1225, 5)\n"
     ]
    },
    {
     "name": "stderr",
     "output_type": "stream",
     "text": [
      "\n",
      "1it [02:21, 141.20s/it]\u001b[A"
     ]
    },
    {
     "name": "stdout",
     "output_type": "stream",
     "text": [
      "preds.shape: (1223, 5)\n"
     ]
    },
    {
     "name": "stderr",
     "output_type": "stream",
     "text": [
      "\n",
      "2it [04:39, 140.35s/it]\u001b[A"
     ]
    },
    {
     "name": "stdout",
     "output_type": "stream",
     "text": [
      "preds.shape: (1220, 5)\n"
     ]
    },
    {
     "name": "stderr",
     "output_type": "stream",
     "text": [
      "\n",
      "3it [06:58, 140.03s/it]\u001b[A"
     ]
    },
    {
     "name": "stdout",
     "output_type": "stream",
     "text": [
      "preds.shape: (1221, 5)\n"
     ]
    },
    {
     "name": "stderr",
     "output_type": "stream",
     "text": [
      "\n",
      "4it [09:19, 140.14s/it]\u001b[A"
     ]
    },
    {
     "name": "stdout",
     "output_type": "stream",
     "text": [
      "preds.shape: (1228, 5)\n"
     ]
    },
    {
     "name": "stderr",
     "output_type": "stream",
     "text": [
      "\n",
      "5it [11:41, 140.23s/it]\u001b[A\n",
      " 54%|█████▍    | 7/13 [1:14:47<1:06:42, 667.15s/it]\n",
      "0it [00:00, ?it/s]\u001b[A"
     ]
    },
    {
     "name": "stdout",
     "output_type": "stream",
     "text": [
      "preds.shape: (1225, 5)\n"
     ]
    },
    {
     "name": "stderr",
     "output_type": "stream",
     "text": [
      "\n",
      "1it [02:20, 140.98s/it]\u001b[A"
     ]
    },
    {
     "name": "stdout",
     "output_type": "stream",
     "text": [
      "preds.shape: (1223, 5)\n"
     ]
    },
    {
     "name": "stderr",
     "output_type": "stream",
     "text": [
      "\n",
      "2it [04:37, 139.75s/it]\u001b[A"
     ]
    },
    {
     "name": "stdout",
     "output_type": "stream",
     "text": [
      "preds.shape: (1220, 5)\n"
     ]
    },
    {
     "name": "stderr",
     "output_type": "stream",
     "text": [
      "\n",
      "3it [06:55, 139.01s/it]\u001b[A"
     ]
    },
    {
     "name": "stdout",
     "output_type": "stream",
     "text": [
      "preds.shape: (1221, 5)\n"
     ]
    },
    {
     "name": "stderr",
     "output_type": "stream",
     "text": [
      "\n",
      "4it [09:16, 139.56s/it]\u001b[A"
     ]
    },
    {
     "name": "stdout",
     "output_type": "stream",
     "text": [
      "preds.shape: (1228, 5)\n"
     ]
    },
    {
     "name": "stderr",
     "output_type": "stream",
     "text": [
      "\n",
      "5it [11:42, 140.43s/it]\u001b[A\n",
      " 62%|██████▏   | 8/13 [1:26:29<56:28, 677.64s/it]  \n",
      "0it [00:00, ?it/s]\u001b[A"
     ]
    },
    {
     "name": "stdout",
     "output_type": "stream",
     "text": [
      "preds.shape: (1225, 5)\n"
     ]
    },
    {
     "name": "stderr",
     "output_type": "stream",
     "text": [
      "\n",
      "1it [02:18, 138.82s/it]\u001b[A"
     ]
    },
    {
     "name": "stdout",
     "output_type": "stream",
     "text": [
      "preds.shape: (1223, 5)\n"
     ]
    },
    {
     "name": "stderr",
     "output_type": "stream",
     "text": [
      "\n",
      "2it [04:41, 140.03s/it]\u001b[A"
     ]
    },
    {
     "name": "stdout",
     "output_type": "stream",
     "text": [
      "preds.shape: (1220, 5)\n"
     ]
    },
    {
     "name": "stderr",
     "output_type": "stream",
     "text": [
      "\n",
      "3it [07:00, 139.74s/it]\u001b[A"
     ]
    },
    {
     "name": "stdout",
     "output_type": "stream",
     "text": [
      "preds.shape: (1221, 5)\n"
     ]
    },
    {
     "name": "stderr",
     "output_type": "stream",
     "text": [
      "\n",
      "4it [09:20, 139.73s/it]\u001b[A"
     ]
    },
    {
     "name": "stdout",
     "output_type": "stream",
     "text": [
      "preds.shape: (1228, 5)\n"
     ]
    },
    {
     "name": "stderr",
     "output_type": "stream",
     "text": [
      "\n",
      "5it [11:41, 140.32s/it]\u001b[A\n",
      " 69%|██████▉   | 9/13 [1:38:10<45:39, 684.83s/it]\n",
      "0it [00:00, ?it/s]\u001b[A"
     ]
    },
    {
     "name": "stdout",
     "output_type": "stream",
     "text": [
      "preds.shape: (1225, 5)\n"
     ]
    },
    {
     "name": "stderr",
     "output_type": "stream",
     "text": [
      "\n",
      "1it [02:18, 138.81s/it]\u001b[A"
     ]
    },
    {
     "name": "stdout",
     "output_type": "stream",
     "text": [
      "preds.shape: (1223, 5)\n"
     ]
    },
    {
     "name": "stderr",
     "output_type": "stream",
     "text": [
      "\n",
      "2it [04:38, 139.08s/it]\u001b[A"
     ]
    },
    {
     "name": "stdout",
     "output_type": "stream",
     "text": [
      "preds.shape: (1220, 5)\n"
     ]
    },
    {
     "name": "stderr",
     "output_type": "stream",
     "text": [
      "\n",
      "3it [06:57, 138.93s/it]\u001b[A"
     ]
    },
    {
     "name": "stdout",
     "output_type": "stream",
     "text": [
      "preds.shape: (1221, 5)\n"
     ]
    },
    {
     "name": "stderr",
     "output_type": "stream",
     "text": [
      "\n",
      "4it [09:20, 140.22s/it]\u001b[A"
     ]
    },
    {
     "name": "stdout",
     "output_type": "stream",
     "text": [
      "preds.shape: (1228, 5)\n"
     ]
    },
    {
     "name": "stderr",
     "output_type": "stream",
     "text": [
      "\n",
      "5it [11:43, 140.64s/it]\u001b[A\n",
      " 77%|███████▋  | 10/13 [1:49:54<34:31, 690.34s/it]\n",
      "0it [00:00, ?it/s]\u001b[A"
     ]
    },
    {
     "name": "stdout",
     "output_type": "stream",
     "text": [
      "preds.shape: (1225, 5)\n"
     ]
    },
    {
     "name": "stderr",
     "output_type": "stream",
     "text": [
      "\n",
      "1it [02:06, 126.12s/it]\u001b[A"
     ]
    },
    {
     "name": "stdout",
     "output_type": "stream",
     "text": [
      "preds.shape: (1223, 5)\n"
     ]
    },
    {
     "name": "stderr",
     "output_type": "stream",
     "text": [
      "\n",
      "2it [04:12, 126.12s/it]\u001b[A"
     ]
    },
    {
     "name": "stdout",
     "output_type": "stream",
     "text": [
      "preds.shape: (1220, 5)\n"
     ]
    },
    {
     "name": "stderr",
     "output_type": "stream",
     "text": [
      "\n",
      "3it [06:18, 126.17s/it]\u001b[A"
     ]
    },
    {
     "name": "stdout",
     "output_type": "stream",
     "text": [
      "preds.shape: (1221, 5)\n"
     ]
    },
    {
     "name": "stderr",
     "output_type": "stream",
     "text": [
      "\n",
      "4it [08:29, 127.74s/it]\u001b[A"
     ]
    },
    {
     "name": "stdout",
     "output_type": "stream",
     "text": [
      "preds.shape: (1228, 5)\n"
     ]
    },
    {
     "name": "stderr",
     "output_type": "stream",
     "text": [
      "\n",
      "5it [10:40, 128.16s/it]\u001b[A\n",
      " 85%|████████▍ | 11/13 [2:00:34<22:30, 675.49s/it]\n",
      "0it [00:00, ?it/s]\u001b[A"
     ]
    },
    {
     "name": "stdout",
     "output_type": "stream",
     "text": [
      "preds.shape: (1225, 5)\n"
     ]
    },
    {
     "name": "stderr",
     "output_type": "stream",
     "text": [
      "\n",
      "1it [02:10, 130.93s/it]\u001b[A"
     ]
    },
    {
     "name": "stdout",
     "output_type": "stream",
     "text": [
      "preds.shape: (1223, 5)\n"
     ]
    },
    {
     "name": "stderr",
     "output_type": "stream",
     "text": [
      "\n",
      "2it [04:19, 130.29s/it]\u001b[A"
     ]
    },
    {
     "name": "stdout",
     "output_type": "stream",
     "text": [
      "preds.shape: (1220, 5)\n"
     ]
    },
    {
     "name": "stderr",
     "output_type": "stream",
     "text": [
      "\n",
      "3it [06:25, 128.88s/it]\u001b[A"
     ]
    },
    {
     "name": "stdout",
     "output_type": "stream",
     "text": [
      "preds.shape: (1221, 5)\n"
     ]
    },
    {
     "name": "stderr",
     "output_type": "stream",
     "text": [
      "\n",
      "4it [08:34, 128.84s/it]\u001b[A"
     ]
    },
    {
     "name": "stdout",
     "output_type": "stream",
     "text": [
      "preds.shape: (1228, 5)\n"
     ]
    },
    {
     "name": "stderr",
     "output_type": "stream",
     "text": [
      "\n",
      "5it [10:46, 129.31s/it]\u001b[A\n",
      " 92%|█████████▏| 12/13 [2:11:21<11:06, 666.80s/it]\n",
      "0it [00:00, ?it/s]\u001b[A"
     ]
    },
    {
     "name": "stdout",
     "output_type": "stream",
     "text": [
      "preds.shape: (1225, 5)\n"
     ]
    },
    {
     "name": "stderr",
     "output_type": "stream",
     "text": [
      "0it [00:00, ?it/s]\n",
      " 92%|█████████▏| 12/13 [2:11:22<10:56, 656.84s/it]\n"
     ]
    },
    {
     "ename": "RuntimeError",
     "evalue": "Error(s) in loading state_dict for Net:\n\tUnexpected key(s) in state_dict: \"mask1.0.weight\", \"mask1.0.bias\", \"mask1.2.weight\", \"mask1.2.bias\", \"mask1.4.weight\", \"mask1.4.bias\", \"mask2.0.weight\", \"mask2.0.bias\", \"mask2.2.weight\", \"mask2.2.bias\", \"mask2.4.weight\", \"mask2.4.bias\". ",
     "output_type": "error",
     "traceback": [
      "\u001b[0;31m---------------------------------------------------------------------------\u001b[0m",
      "\u001b[0;31mRuntimeError\u001b[0m                              Traceback (most recent call last)",
      "\u001b[0;32m<ipython-input-9-97341cf89557>\u001b[0m in \u001b[0;36m<module>\u001b[0;34m\u001b[0m\n\u001b[1;32m     15\u001b[0m         \u001b[0mmodel\u001b[0m \u001b[0;34m=\u001b[0m \u001b[0mmodel_set\u001b[0m\u001b[0;34m[\u001b[0m\u001b[0;36m0\u001b[0m\u001b[0;34m]\u001b[0m\u001b[0;34m.\u001b[0m\u001b[0mto\u001b[0m\u001b[0;34m(\u001b[0m\u001b[0mdevice\u001b[0m\u001b[0;34m)\u001b[0m\u001b[0;34m\u001b[0m\u001b[0;34m\u001b[0m\u001b[0m\n\u001b[1;32m     16\u001b[0m         \u001b[0mweight\u001b[0m \u001b[0;34m=\u001b[0m \u001b[0mtorch\u001b[0m\u001b[0;34m.\u001b[0m\u001b[0mload\u001b[0m\u001b[0;34m(\u001b[0m\u001b[0mckpt\u001b[0m\u001b[0;34m,\u001b[0m \u001b[0mmap_location\u001b[0m\u001b[0;34m=\u001b[0m\u001b[0mdevice\u001b[0m\u001b[0;34m)\u001b[0m\u001b[0;34m\u001b[0m\u001b[0;34m\u001b[0m\u001b[0m\n\u001b[0;32m---> 17\u001b[0;31m         \u001b[0mmodel\u001b[0m\u001b[0;34m.\u001b[0m\u001b[0mload_state_dict\u001b[0m\u001b[0;34m(\u001b[0m\u001b[0mweight\u001b[0m\u001b[0;34m[\u001b[0m\u001b[0;34m\"state_dict\"\u001b[0m\u001b[0;34m]\u001b[0m\u001b[0;34m)\u001b[0m\u001b[0;34m\u001b[0m\u001b[0;34m\u001b[0m\u001b[0m\n\u001b[0m\u001b[1;32m     18\u001b[0m         \u001b[0mmodel\u001b[0m\u001b[0;34m.\u001b[0m\u001b[0meval\u001b[0m\u001b[0;34m(\u001b[0m\u001b[0;34m)\u001b[0m\u001b[0;34m\u001b[0m\u001b[0;34m\u001b[0m\u001b[0m\n\u001b[1;32m     19\u001b[0m \u001b[0;34m\u001b[0m\u001b[0m\n",
      "\u001b[0;32m/opt/conda/lib/python3.8/site-packages/torch/nn/modules/module.py\u001b[0m in \u001b[0;36mload_state_dict\u001b[0;34m(self, state_dict, strict)\u001b[0m\n\u001b[1;32m   1221\u001b[0m \u001b[0;34m\u001b[0m\u001b[0m\n\u001b[1;32m   1222\u001b[0m         \u001b[0;32mif\u001b[0m \u001b[0mlen\u001b[0m\u001b[0;34m(\u001b[0m\u001b[0merror_msgs\u001b[0m\u001b[0;34m)\u001b[0m \u001b[0;34m>\u001b[0m \u001b[0;36m0\u001b[0m\u001b[0;34m:\u001b[0m\u001b[0;34m\u001b[0m\u001b[0;34m\u001b[0m\u001b[0m\n\u001b[0;32m-> 1223\u001b[0;31m             raise RuntimeError('Error(s) in loading state_dict for {}:\\n\\t{}'.format(\n\u001b[0m\u001b[1;32m   1224\u001b[0m                                self.__class__.__name__, \"\\n\\t\".join(error_msgs)))\n\u001b[1;32m   1225\u001b[0m         \u001b[0;32mreturn\u001b[0m \u001b[0m_IncompatibleKeys\u001b[0m\u001b[0;34m(\u001b[0m\u001b[0mmissing_keys\u001b[0m\u001b[0;34m,\u001b[0m \u001b[0munexpected_keys\u001b[0m\u001b[0;34m)\u001b[0m\u001b[0;34m\u001b[0m\u001b[0;34m\u001b[0m\u001b[0m\n",
      "\u001b[0;31mRuntimeError\u001b[0m: Error(s) in loading state_dict for Net:\n\tUnexpected key(s) in state_dict: \"mask1.0.weight\", \"mask1.0.bias\", \"mask1.2.weight\", \"mask1.2.bias\", \"mask1.4.weight\", \"mask1.4.bias\", \"mask2.0.weight\", \"mask2.0.bias\", \"mask2.2.weight\", \"mask2.2.bias\", \"mask2.4.weight\", \"mask2.4.bias\". "
     ]
    }
   ],
   "source": [
    "from copy import deepcopy\n",
    "\n",
    "# key: image size, value: model\n",
    "model_dict = {}\n",
    "\n",
    "image_size_list = []\n",
    "\n",
    "for model_set in tqdm(study_sub_list):\n",
    "    # 画像サイズをkey, modelのリストをvalueにする\n",
    "    # keyがまだない場合はからのリストを登録\n",
    "    model_dict.setdefault(model_set[2], [])\n",
    "    model_list = []\n",
    "    exp_name = model_set[-1]\n",
    "    for cv, ckpt in tqdm(enumerate(model_set[3])):\n",
    "        model = model_set[0].to(device)\n",
    "        weight = torch.load(ckpt, map_location=device)\n",
    "        model.load_state_dict(weight[\"state_dict\"])\n",
    "        model.eval()\n",
    "        \n",
    "        df_val = df[df.cv == cv].reset_index(drop=True)\n",
    "        \n",
    "        dataset = CustomDataset(df=df_val, transform=get_val_transforms(model_set[2]))\n",
    "        test_loader = DataLoader(\n",
    "            dataset,\n",
    "            shuffle=False,\n",
    "            batch_size=32,\n",
    "            num_workers=0,\n",
    "            pin_memory=True,\n",
    "        )\n",
    "        \n",
    "        pred_list1 = []\n",
    "        for i, image in enumerate(test_loader):\n",
    "            pred_list2 = []\n",
    "            pred_mask2 = []\n",
    "            image = image[\"image\"].to(device)\n",
    "            with torch.no_grad():\n",
    "                preds, *_ = model(image)\n",
    "                preds = preds.cpu().detach()\n",
    "                pred_list2.append(preds.sigmoid())\n",
    "                \n",
    "                if hflip:\n",
    "                    preds, *_ = model(image.flip(-1))\n",
    "                    pred_list2.append(preds.cpu().detach().sigmoid())\n",
    "\n",
    "                # average prediction\n",
    "                pred_list1.append(torch.stack(pred_list2, 0).mean(0))\n",
    "\n",
    "        preds = torch.cat(pred_list1).numpy()\n",
    "        print(f\"preds.shape: {preds.shape}\")\n",
    "        np.save(f'/workspace/output/oof/{exp_name}_cv{cv}.npy', preds)"
   ]
  },
  {
   "cell_type": "code",
   "execution_count": null,
   "id": "46188940",
   "metadata": {},
   "outputs": [],
   "source": []
  },
  {
   "cell_type": "code",
   "execution_count": null,
   "id": "f69684bf",
   "metadata": {},
   "outputs": [],
   "source": []
  },
  {
   "cell_type": "code",
   "execution_count": null,
   "id": "297137c4",
   "metadata": {},
   "outputs": [],
   "source": []
  },
  {
   "cell_type": "code",
   "execution_count": null,
   "id": "7d30f239",
   "metadata": {},
   "outputs": [],
   "source": []
  },
  {
   "cell_type": "code",
   "execution_count": null,
   "id": "96654807",
   "metadata": {},
   "outputs": [],
   "source": []
  },
  {
   "cell_type": "code",
   "execution_count": null,
   "id": "bed1a678",
   "metadata": {},
   "outputs": [],
   "source": []
  },
  {
   "cell_type": "code",
   "execution_count": null,
   "id": "b067c845",
   "metadata": {},
   "outputs": [],
   "source": []
  },
  {
   "cell_type": "code",
   "execution_count": null,
   "id": "3b44cc1f",
   "metadata": {},
   "outputs": [],
   "source": []
  }
 ],
 "metadata": {
  "kernelspec": {
   "display_name": "Python 3",
   "language": "python",
   "name": "python3"
  },
  "language_info": {
   "codemirror_mode": {
    "name": "ipython",
    "version": 3
   },
   "file_extension": ".py",
   "mimetype": "text/x-python",
   "name": "python",
   "nbconvert_exporter": "python",
   "pygments_lexer": "ipython3",
   "version": "3.8.8"
  }
 },
 "nbformat": 4,
 "nbformat_minor": 5
}
