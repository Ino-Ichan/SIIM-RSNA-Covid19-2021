{
 "cells": [
  {
   "cell_type": "code",
   "execution_count": 1,
   "id": "821e69da",
   "metadata": {},
   "outputs": [],
   "source": [
    "import matplotlib.pyplot as plt\n",
    "import seaborn as sns\n",
    "import numpy as np\n",
    "import pandas as pd\n",
    "import random\n",
    "import torch\n",
    "from torch import nn, optim\n",
    "from torch.utils.data import DataLoader, Dataset\n",
    "from torch.utils.tensorboard import SummaryWriter\n",
    "from torch.cuda.amp import GradScaler, autocast\n",
    "\n",
    "import cv2\n",
    "\n",
    "import albumentations\n",
    "from albumentations.pytorch import ToTensorV2\n",
    "\n",
    "from sklearn.metrics import confusion_matrix, roc_auc_score, average_precision_score\n",
    "\n",
    "from tqdm import tqdm\n",
    "import argparse\n",
    "import os, sys, yaml\n",
    "\n",
    "sys.path.append('/workspace/siim-rsna-2021')\n",
    "from src.logger import setup_logger, LOGGER\n",
    "from src.meter import mAPMeter, AUCMeter, APMeter, AverageValueMeter\n",
    "from src.utils import plot_sample_images\n",
    "from src.segloss import SymmetricLovaszLoss\n",
    "\n",
    "\n",
    "# import neptune.new as neptune\n",
    "import wandb\n",
    "import pydicom\n",
    "\n",
    "import time\n",
    "from contextlib import contextmanager\n",
    "\n",
    "import timm\n",
    "\n",
    "import warnings\n",
    "\n",
    "target_columns = [\n",
    "    \"Negative for Pneumonia\", \"Typical Appearance\", \"Indeterminate Appearance\", \"Atypical Appearance\", \"is_none\"\n",
    "]\n",
    "\n",
    "\n",
    "@contextmanager\n",
    "def timer(name):\n",
    "    t0 = time.time()\n",
    "    yield\n",
    "    print(f'[{name}] done in {time.time() - t0:.0f} s')"
   ]
  },
  {
   "cell_type": "code",
   "execution_count": 2,
   "id": "b893e3bd",
   "metadata": {},
   "outputs": [],
   "source": [
    "from exp.exp414.train import Net as Net414\n",
    "from exp.exp415.train import Net as Net415\n",
    "from exp.exp416.train import Net as Net416\n",
    "from exp.exp417.train import Net as Net417\n",
    "\n",
    "from exp.exp418.train import Net as Net418\n",
    "from exp.exp419.train import Net as Net419\n",
    "from exp.exp420.train import Net as Net420\n",
    "\n",
    "from exp.exp520.train import Net as Net520\n",
    "from exp.exp551.train import Net as Net551\n",
    "from exp.exp552.train import Net as Net552\n",
    "from exp.exp553.train import Net as Net553\n",
    "\n",
    "from exp.exp605.train import Net as Net605"
   ]
  },
  {
   "cell_type": "code",
   "execution_count": 3,
   "id": "d7379dfe",
   "metadata": {},
   "outputs": [],
   "source": [
    "class CustomDataset(Dataset):\n",
    "    def __init__(self,\n",
    "                 df,\n",
    "                 image_size=512,\n",
    "                 transform=None,\n",
    "                 ):\n",
    "        self.df = df\n",
    "        self.image_size = image_size\n",
    "        self.transform = transform\n",
    "        self.cols = target_columns\n",
    "\n",
    "    def __len__(self):\n",
    "        return self.df.shape[0]\n",
    "\n",
    "    def __getitem__(self, index):\n",
    "        row = self.df.iloc[index]\n",
    "        images = cv2.imread(row.npy_path)\n",
    "\n",
    "        # original image size\n",
    "        original_h = images.shape[0]\n",
    "        original_w = images.shape[1]\n",
    "        images = cv2.resize(images, (512, 512))\n",
    "\n",
    "        if self.transform is not None:\n",
    "            aug = self.transform(image=images)\n",
    "            images_only = aug['image'].astype(np.float32).transpose(2, 0, 1) / 255\n",
    "        return {\n",
    "            \"image\": torch.tensor(images_only, dtype=torch.float),\n",
    "        }\n"
   ]
  },
  {
   "cell_type": "code",
   "execution_count": 4,
   "id": "e1875922",
   "metadata": {},
   "outputs": [],
   "source": [
    "def get_val_transforms(image_size=512):\n",
    "    return albumentations.Compose([\n",
    "        albumentations.Resize(image_size, image_size),\n",
    "])"
   ]
  },
  {
   "cell_type": "code",
   "execution_count": 5,
   "id": "406a490f",
   "metadata": {},
   "outputs": [],
   "source": [
    "study_sub_list = [\n",
    "\n",
    "    # prediction set, b6 mask\n",
    "    [\n",
    "        # backbone\n",
    "        Net414(\"tf_efficientnetv2_m_in21k\"),\n",
    "        \"tf_efficientnetv2_m_in21k\",\n",
    "        # img_size\n",
    "        512,\n",
    "        # weight list\n",
    "        [\n",
    "            \"/workspace/output/exp414/model/cv0_weight_checkpoint_best.pth\",\n",
    "            \"/workspace/output/exp414/model/cv1_weight_checkpoint_best.pth\",\n",
    "            \"/workspace/output/exp414/model/cv2_weight_checkpoint_best.pth\",\n",
    "            \"/workspace/output/exp414/model/cv3_weight_checkpoint_best.pth\",\n",
    "            \"/workspace/output/exp414/model/cv4_weight_checkpoint_best.pth\",\n",
    "        ],\n",
    "        \"exp414\"\n",
    "    ],\n",
    "    \n",
    "    # prediction set, b6 mask\n",
    "    [\n",
    "        # backbone\n",
    "        Net415(\"tf_efficientnetv2_m_in21k\"),\n",
    "        \"tf_efficientnetv2_m_in21k\",\n",
    "        # img_size\n",
    "        512,\n",
    "        # weight list\n",
    "        [\n",
    "            \"/workspace/output/exp415/model/cv0_weight_checkpoint_best.pth\",\n",
    "            \"/workspace/output/exp415/model/cv1_weight_checkpoint_best.pth\",\n",
    "            \"/workspace/output/exp415/model/cv2_weight_checkpoint_best.pth\",\n",
    "            \"/workspace/output/exp415/model/cv3_weight_checkpoint_best.pth\",\n",
    "            \"/workspace/output/exp415/model/cv4_weight_checkpoint_best.pth\",\n",
    "        ],\n",
    "        \"exp415\"\n",
    "    ],\n",
    "\n",
    "    # prediction set, b7 mask\n",
    "    [\n",
    "        # backbone\n",
    "        Net416(\"tf_efficientnetv2_m_in21k\"),\n",
    "        \"tf_efficientnetv2_m_in21k\",\n",
    "        # img_size\n",
    "        512,\n",
    "        # weight list\n",
    "        [\n",
    "            \"/workspace/output/exp416/model/cv0_weight_checkpoint_best.pth\",\n",
    "            \"/workspace/output/exp416/model/cv1_weight_checkpoint_best.pth\",\n",
    "            \"/workspace/output/exp416/model/cv2_weight_checkpoint_best.pth\",\n",
    "            \"/workspace/output/exp416/model/cv3_weight_checkpoint_best.pth\",\n",
    "            \"/workspace/output/exp416/model/cv4_weight_checkpoint_best.pth\",\n",
    "        ],\n",
    "        \"exp416\"\n",
    "    ],\n",
    "    \n",
    "    # prediction set, b6 mask\n",
    "    [\n",
    "        # backbone\n",
    "        Net417(\"tf_efficientnetv2_m_in21k\"),\n",
    "        \"tf_efficientnetv2_m_in21k\",\n",
    "        # img_size\n",
    "        512,\n",
    "        # weight list\n",
    "        [\n",
    "            \"/workspace/output/exp417/model/cv0_weight_checkpoint_best.pth\",\n",
    "            \"/workspace/output/exp417/model/cv1_weight_checkpoint_best.pth\",\n",
    "            \"/workspace/output/exp417/model/cv2_weight_checkpoint_best.pth\",\n",
    "            \"/workspace/output/exp417/model/cv3_weight_checkpoint_best.pth\",\n",
    "            \"/workspace/output/exp417/model/cv4_weight_checkpoint_best.pth\",\n",
    "        ],\n",
    "        \"exp417\"\n",
    "    ],\n",
    "\n",
    "    # ===========================================\n",
    "    # Eff v2 L\n",
    "    # ===========================================\n",
    "\n",
    "\n",
    "    # prediction set, b7 map\n",
    "    [\n",
    "        # backbone\n",
    "        Net419(\"tf_efficientnetv2_l_in21k\"),\n",
    "        \"tf_efficientnetv2_l_in21k\",\n",
    "        # img_size\n",
    "        512,\n",
    "        # weight list\n",
    "        [\n",
    "            \"/workspace/output/exp419/model/cv0_weight_checkpoint_best.pth\",\n",
    "            \"/workspace/output/exp419/model/cv1_weight_checkpoint_best.pth\",\n",
    "            \"/workspace/output/exp419/model/cv2_weight_checkpoint_best.pth\",\n",
    "            \"/workspace/output/exp419/model/cv3_weight_checkpoint_best.pth\",\n",
    "            \"/workspace/output/exp419/model/cv4_weight_checkpoint_best.pth\",\n",
    "        ],\n",
    "        \"exp419\"\n",
    "    ],\n",
    "\n",
    "    # prediction set, b6, b7\n",
    "    [\n",
    "        # backbone\n",
    "        Net420(\"tf_efficientnetv2_l_in21k\"),\n",
    "        \"tf_efficientnetv2_l_in21k\",\n",
    "        # img_size\n",
    "        512,\n",
    "        # weight list\n",
    "        [\n",
    "            \"/workspace/output/exp420/model/cv0_weight_checkpoint_best.pth\",\n",
    "            \"/workspace/output/exp420/model/cv1_weight_checkpoint_best.pth\",\n",
    "            \"/workspace/output/exp420/model/cv2_weight_checkpoint_best.pth\",\n",
    "            \"/workspace/output/exp420/model/cv3_weight_checkpoint_best.pth\",\n",
    "            \"/workspace/output/exp420/model/cv4_weight_checkpoint_best.pth\",\n",
    "        ],\n",
    "        \"exp420\"\n",
    "    ],\n",
    "    \n",
    "    # prediction set, b6, b7\n",
    "    [\n",
    "        # backbone\n",
    "        Net420(\"tf_efficientnetv2_l_in21k\"),\n",
    "        \"tf_efficientnetv2_l_in21k\",\n",
    "        # img_size\n",
    "        512,\n",
    "        # weight list\n",
    "        [\n",
    "            \"/workspace/output/exp520/model/cv0_weight_checkpoint_best.pth\",\n",
    "            \"/workspace/output/exp520/model/cv1_weight_checkpoint_best.pth\",\n",
    "            \"/workspace/output/exp520/model/cv2_weight_checkpoint_best.pth\",\n",
    "            \"/workspace/output/exp520/model/cv3_weight_checkpoint_best.pth\",\n",
    "            \"/workspace/output/exp520/model/cv4_weight_checkpoint_best.pth\",\n",
    "        ],\n",
    "        \"exp520\"\n",
    "    ],\n",
    "    \n",
    "    # prediction set, b6\n",
    "    [\n",
    "        # backbone\n",
    "        Net418(\"tf_efficientnetv2_l_in21k\"),\n",
    "        \"tf_efficientnetv2_l_in21k\",\n",
    "        # img_size\n",
    "        512,\n",
    "        # weight list\n",
    "        [\n",
    "            \"/workspace/output/exp551/model/cv0_weight_checkpoint_best.pth\",\n",
    "            \"/workspace/output/exp551/model/cv1_weight_checkpoint_best.pth\",\n",
    "            \"/workspace/output/exp551/model/cv2_weight_checkpoint_best.pth\",\n",
    "            \"/workspace/output/exp551/model/cv3_weight_checkpoint_best.pth\",\n",
    "            \"/workspace/output/exp551/model/cv4_weight_checkpoint_best.pth\",\n",
    "        ],\n",
    "        \"exp551\"\n",
    "    ],\n",
    "    \n",
    "    # prediction set, b6\n",
    "    [\n",
    "        # backbone\n",
    "        Net552(\"tf_efficientnetv2_l_in21k\"),\n",
    "        \"tf_efficientnetv2_l_in21k\",\n",
    "        # img_size\n",
    "        512,\n",
    "        # weight list\n",
    "        [\n",
    "            \"/workspace/output/exp552/model/cv0_weight_checkpoint_best.pth\",\n",
    "            \"/workspace/output/exp552/model/cv1_weight_checkpoint_best.pth\",\n",
    "            \"/workspace/output/exp552/model/cv2_weight_checkpoint_best.pth\",\n",
    "            \"/workspace/output/exp552/model/cv3_weight_checkpoint_best.pth\",\n",
    "            \"/workspace/output/exp552/model/cv4_weight_checkpoint_best.pth\",\n",
    "        ],\n",
    "        \"exp552\"\n",
    "    ],\n",
    "    \n",
    "    # prediction set, b6\n",
    "    [\n",
    "        # backbone\n",
    "        Net553(\"tf_efficientnetv2_l_in21k\"),\n",
    "        \"tf_efficientnetv2_l_in21k\",\n",
    "        # img_size\n",
    "        512,\n",
    "        # weight list\n",
    "        [\n",
    "            \"/workspace/output/exp553/model/cv0_weight_checkpoint_best.pth\",\n",
    "            \"/workspace/output/exp553/model/cv1_weight_checkpoint_best.pth\",\n",
    "            \"/workspace/output/exp553/model/cv2_weight_checkpoint_best.pth\",\n",
    "            \"/workspace/output/exp553/model/cv3_weight_checkpoint_best.pth\",\n",
    "            \"/workspace/output/exp553/model/cv4_weight_checkpoint_best.pth\",\n",
    "        ],\n",
    "        \"exp553\"\n",
    "    ],\n",
    "\n",
    "    # ===========================================\n",
    "    # Swin transformer\n",
    "    # ===========================================\n",
    "\n",
    "    # prediction set\n",
    "    [\n",
    "        # backbone\n",
    "        Net605(\"swin_base_patch4_window12_384\"),\n",
    "        \"swin_base_patch4_window12_384\",\n",
    "        # img_size\n",
    "        384,\n",
    "        # weight list\n",
    "        [\n",
    "            \"/workspace/output/exp605/model/cv0_weight_checkpoint_best.pth\",\n",
    "            \"/workspace/output/exp605/model/cv1_weight_checkpoint_best.pth\",\n",
    "            \"/workspace/output/exp605/model/cv2_weight_checkpoint_best.pth\",\n",
    "            \"/workspace/output/exp605/model/cv3_weight_checkpoint_best.pth\",\n",
    "            \"/workspace/output/exp605/model/cv4_weight_checkpoint_best.pth\",\n",
    "        ],\n",
    "        \"exp605\"\n",
    "    ],\n",
    "    \n",
    "    \n",
    "\n",
    "]"
   ]
  },
  {
   "cell_type": "code",
   "execution_count": 6,
   "id": "e3c9befe",
   "metadata": {},
   "outputs": [],
   "source": [
    "device = \"cuda:1\""
   ]
  },
  {
   "cell_type": "code",
   "execution_count": null,
   "id": "46658382",
   "metadata": {},
   "outputs": [],
   "source": []
  },
  {
   "cell_type": "code",
   "execution_count": 7,
   "id": "5e2a7632",
   "metadata": {},
   "outputs": [],
   "source": [
    "df_original = pd.read_csv(\"/workspace/data/df_train_study_level_npy640_3_w_bbox.csv\")\n",
    "df = df_original.groupby('image_id').first().reset_index()"
   ]
  },
  {
   "cell_type": "code",
   "execution_count": 8,
   "id": "3af31a0a",
   "metadata": {
    "tags": []
   },
   "outputs": [
    {
     "name": "stderr",
     "output_type": "stream",
     "text": [
      "  0%|          | 0/11 [00:00<?, ?it/s]\n",
      "0it [00:00, ?it/s]\u001b[A\n",
      "1it [01:49, 109.50s/it]\u001b[A"
     ]
    },
    {
     "name": "stdout",
     "output_type": "stream",
     "text": [
      "preds.shape: (1223, 5)\n"
     ]
    },
    {
     "name": "stderr",
     "output_type": "stream",
     "text": [
      "\n",
      "2it [03:40, 110.08s/it]\u001b[A"
     ]
    },
    {
     "name": "stdout",
     "output_type": "stream",
     "text": [
      "preds.shape: (1220, 5)\n"
     ]
    },
    {
     "name": "stderr",
     "output_type": "stream",
     "text": [
      "\n",
      "3it [05:22, 107.62s/it]\u001b[A"
     ]
    },
    {
     "name": "stdout",
     "output_type": "stream",
     "text": [
      "preds.shape: (1221, 5)\n"
     ]
    },
    {
     "name": "stderr",
     "output_type": "stream",
     "text": [
      "\n",
      "4it [07:09, 107.33s/it]\u001b[A"
     ]
    },
    {
     "name": "stdout",
     "output_type": "stream",
     "text": [
      "preds.shape: (1228, 5)\n"
     ]
    },
    {
     "name": "stderr",
     "output_type": "stream",
     "text": [
      "\n",
      "5it [08:54, 106.96s/it]\u001b[A\n",
      "  9%|▉         | 1/11 [08:54<1:29:08, 534.82s/it]\n",
      "0it [00:00, ?it/s]\u001b[A"
     ]
    },
    {
     "name": "stdout",
     "output_type": "stream",
     "text": [
      "preds.shape: (1225, 5)\n"
     ]
    },
    {
     "name": "stderr",
     "output_type": "stream",
     "text": [
      "\n",
      "1it [01:44, 104.42s/it]\u001b[A"
     ]
    },
    {
     "name": "stdout",
     "output_type": "stream",
     "text": [
      "preds.shape: (1223, 5)\n"
     ]
    },
    {
     "name": "stderr",
     "output_type": "stream",
     "text": [
      "\n",
      "2it [03:28, 104.28s/it]\u001b[A"
     ]
    },
    {
     "name": "stdout",
     "output_type": "stream",
     "text": [
      "preds.shape: (1220, 5)\n"
     ]
    },
    {
     "name": "stderr",
     "output_type": "stream",
     "text": [
      "\n",
      "3it [05:13, 104.51s/it]\u001b[A"
     ]
    },
    {
     "name": "stdout",
     "output_type": "stream",
     "text": [
      "preds.shape: (1221, 5)\n"
     ]
    },
    {
     "name": "stderr",
     "output_type": "stream",
     "text": [
      "\n",
      "4it [06:58, 104.74s/it]\u001b[A"
     ]
    },
    {
     "name": "stdout",
     "output_type": "stream",
     "text": [
      "preds.shape: (1228, 5)\n"
     ]
    },
    {
     "name": "stderr",
     "output_type": "stream",
     "text": [
      "\n",
      "5it [08:47, 105.40s/it]\u001b[A\n",
      " 18%|█▊        | 2/11 [17:41<1:19:52, 532.48s/it]\n",
      "0it [00:00, ?it/s]\u001b[A"
     ]
    },
    {
     "name": "stdout",
     "output_type": "stream",
     "text": [
      "preds.shape: (1225, 5)\n"
     ]
    },
    {
     "name": "stderr",
     "output_type": "stream",
     "text": [
      "\n",
      "1it [01:49, 109.24s/it]\u001b[A"
     ]
    },
    {
     "name": "stdout",
     "output_type": "stream",
     "text": [
      "preds.shape: (1223, 5)\n"
     ]
    },
    {
     "name": "stderr",
     "output_type": "stream",
     "text": [
      "\n",
      "2it [03:32, 107.38s/it]\u001b[A"
     ]
    },
    {
     "name": "stdout",
     "output_type": "stream",
     "text": [
      "preds.shape: (1220, 5)\n"
     ]
    },
    {
     "name": "stderr",
     "output_type": "stream",
     "text": [
      "\n",
      "3it [05:14, 105.87s/it]\u001b[A"
     ]
    },
    {
     "name": "stdout",
     "output_type": "stream",
     "text": [
      "preds.shape: (1221, 5)\n"
     ]
    },
    {
     "name": "stderr",
     "output_type": "stream",
     "text": [
      "\n",
      "4it [07:00, 105.72s/it]\u001b[A"
     ]
    },
    {
     "name": "stdout",
     "output_type": "stream",
     "text": [
      "preds.shape: (1228, 5)\n"
     ]
    },
    {
     "name": "stderr",
     "output_type": "stream",
     "text": [
      "\n",
      "5it [08:44, 104.91s/it]\u001b[A\n",
      " 27%|██▋       | 3/11 [26:26<1:10:40, 530.10s/it]\n",
      "0it [00:00, ?it/s]\u001b[A"
     ]
    },
    {
     "name": "stdout",
     "output_type": "stream",
     "text": [
      "preds.shape: (1225, 5)\n"
     ]
    },
    {
     "name": "stderr",
     "output_type": "stream",
     "text": [
      "\n",
      "1it [01:47, 107.12s/it]\u001b[A"
     ]
    },
    {
     "name": "stdout",
     "output_type": "stream",
     "text": [
      "preds.shape: (1223, 5)\n"
     ]
    },
    {
     "name": "stderr",
     "output_type": "stream",
     "text": [
      "\n",
      "2it [03:33, 106.98s/it]\u001b[A"
     ]
    },
    {
     "name": "stdout",
     "output_type": "stream",
     "text": [
      "preds.shape: (1220, 5)\n"
     ]
    },
    {
     "name": "stderr",
     "output_type": "stream",
     "text": [
      "\n",
      "3it [05:19, 106.57s/it]\u001b[A"
     ]
    },
    {
     "name": "stdout",
     "output_type": "stream",
     "text": [
      "preds.shape: (1221, 5)\n"
     ]
    },
    {
     "name": "stderr",
     "output_type": "stream",
     "text": [
      "\n",
      "4it [07:08, 107.43s/it]\u001b[A"
     ]
    },
    {
     "name": "stdout",
     "output_type": "stream",
     "text": [
      "preds.shape: (1228, 5)\n"
     ]
    },
    {
     "name": "stderr",
     "output_type": "stream",
     "text": [
      "\n",
      "5it [09:02, 108.41s/it]\u001b[A\n",
      " 36%|███▋      | 4/11 [35:28<1:02:15, 533.68s/it]\n",
      "0it [00:00, ?it/s]\u001b[A"
     ]
    },
    {
     "name": "stdout",
     "output_type": "stream",
     "text": [
      "preds.shape: (1225, 5)\n"
     ]
    },
    {
     "name": "stderr",
     "output_type": "stream",
     "text": [
      "\n",
      "1it [01:58, 118.20s/it]\u001b[A"
     ]
    },
    {
     "name": "stdout",
     "output_type": "stream",
     "text": [
      "preds.shape: (1223, 5)\n"
     ]
    },
    {
     "name": "stderr",
     "output_type": "stream",
     "text": [
      "\n",
      "2it [03:54, 117.62s/it]\u001b[A"
     ]
    },
    {
     "name": "stdout",
     "output_type": "stream",
     "text": [
      "preds.shape: (1220, 5)\n"
     ]
    },
    {
     "name": "stderr",
     "output_type": "stream",
     "text": [
      "\n",
      "3it [05:52, 117.78s/it]\u001b[A"
     ]
    },
    {
     "name": "stdout",
     "output_type": "stream",
     "text": [
      "preds.shape: (1221, 5)\n"
     ]
    },
    {
     "name": "stderr",
     "output_type": "stream",
     "text": [
      "\n",
      "4it [07:54, 118.93s/it]\u001b[A"
     ]
    },
    {
     "name": "stdout",
     "output_type": "stream",
     "text": [
      "preds.shape: (1228, 5)\n"
     ]
    },
    {
     "name": "stderr",
     "output_type": "stream",
     "text": [
      "\n",
      "5it [09:59, 119.96s/it]\u001b[A\n",
      " 45%|████▌     | 5/11 [45:28<55:21, 553.52s/it]  \n",
      "0it [00:00, ?it/s]\u001b[A"
     ]
    },
    {
     "name": "stdout",
     "output_type": "stream",
     "text": [
      "preds.shape: (1225, 5)\n"
     ]
    },
    {
     "name": "stderr",
     "output_type": "stream",
     "text": [
      "\n",
      "1it [01:56, 116.85s/it]\u001b[A"
     ]
    },
    {
     "name": "stdout",
     "output_type": "stream",
     "text": [
      "preds.shape: (1223, 5)\n"
     ]
    },
    {
     "name": "stderr",
     "output_type": "stream",
     "text": [
      "\n",
      "2it [03:57, 117.98s/it]\u001b[A"
     ]
    },
    {
     "name": "stdout",
     "output_type": "stream",
     "text": [
      "preds.shape: (1220, 5)\n"
     ]
    },
    {
     "name": "stderr",
     "output_type": "stream",
     "text": [
      "\n",
      "3it [05:57, 118.58s/it]\u001b[A"
     ]
    },
    {
     "name": "stdout",
     "output_type": "stream",
     "text": [
      "preds.shape: (1221, 5)\n"
     ]
    },
    {
     "name": "stderr",
     "output_type": "stream",
     "text": [
      "\n",
      "4it [07:57, 118.97s/it]\u001b[A"
     ]
    },
    {
     "name": "stdout",
     "output_type": "stream",
     "text": [
      "preds.shape: (1228, 5)\n"
     ]
    },
    {
     "name": "stderr",
     "output_type": "stream",
     "text": [
      "\n",
      "5it [09:56, 119.23s/it]\u001b[A\n",
      " 55%|█████▍    | 6/11 [55:24<47:11, 566.31s/it]\n",
      "0it [00:00, ?it/s]\u001b[A"
     ]
    },
    {
     "name": "stdout",
     "output_type": "stream",
     "text": [
      "preds.shape: (1225, 5)\n"
     ]
    },
    {
     "name": "stderr",
     "output_type": "stream",
     "text": [
      "\n",
      "1it [02:00, 120.76s/it]\u001b[A"
     ]
    },
    {
     "name": "stdout",
     "output_type": "stream",
     "text": [
      "preds.shape: (1223, 5)\n"
     ]
    },
    {
     "name": "stderr",
     "output_type": "stream",
     "text": [
      "\n",
      "2it [03:58, 119.77s/it]\u001b[A"
     ]
    },
    {
     "name": "stdout",
     "output_type": "stream",
     "text": [
      "preds.shape: (1220, 5)\n"
     ]
    },
    {
     "name": "stderr",
     "output_type": "stream",
     "text": [
      "\n",
      "3it [05:58, 120.00s/it]\u001b[A"
     ]
    },
    {
     "name": "stdout",
     "output_type": "stream",
     "text": [
      "preds.shape: (1221, 5)\n"
     ]
    },
    {
     "name": "stderr",
     "output_type": "stream",
     "text": [
      "\n",
      "4it [07:59, 120.31s/it]\u001b[A"
     ]
    },
    {
     "name": "stdout",
     "output_type": "stream",
     "text": [
      "preds.shape: (1228, 5)\n"
     ]
    },
    {
     "name": "stderr",
     "output_type": "stream",
     "text": [
      "\n",
      "5it [10:03, 120.71s/it]\u001b[A\n",
      " 64%|██████▎   | 7/11 [1:05:27<38:29, 577.48s/it]\n",
      "0it [00:00, ?it/s]\u001b[A"
     ]
    },
    {
     "name": "stdout",
     "output_type": "stream",
     "text": [
      "preds.shape: (1225, 5)\n"
     ]
    },
    {
     "name": "stderr",
     "output_type": "stream",
     "text": [
      "\n",
      "1it [01:57, 117.92s/it]\u001b[A"
     ]
    },
    {
     "name": "stdout",
     "output_type": "stream",
     "text": [
      "preds.shape: (1223, 5)\n"
     ]
    },
    {
     "name": "stderr",
     "output_type": "stream",
     "text": [
      "\n",
      "2it [03:53, 117.30s/it]\u001b[A"
     ]
    },
    {
     "name": "stdout",
     "output_type": "stream",
     "text": [
      "preds.shape: (1220, 5)\n"
     ]
    },
    {
     "name": "stderr",
     "output_type": "stream",
     "text": [
      "\n",
      "3it [05:51, 117.37s/it]\u001b[A"
     ]
    },
    {
     "name": "stdout",
     "output_type": "stream",
     "text": [
      "preds.shape: (1221, 5)\n"
     ]
    },
    {
     "name": "stderr",
     "output_type": "stream",
     "text": [
      "\n",
      "4it [07:56, 119.69s/it]\u001b[A"
     ]
    },
    {
     "name": "stdout",
     "output_type": "stream",
     "text": [
      "preds.shape: (1228, 5)\n"
     ]
    },
    {
     "name": "stderr",
     "output_type": "stream",
     "text": [
      "\n",
      "5it [09:55, 119.12s/it]\u001b[A\n",
      " 73%|███████▎  | 8/11 [1:15:23<29:08, 582.91s/it]\n",
      "0it [00:00, ?it/s]\u001b[A"
     ]
    },
    {
     "name": "stdout",
     "output_type": "stream",
     "text": [
      "preds.shape: (1225, 5)\n"
     ]
    },
    {
     "name": "stderr",
     "output_type": "stream",
     "text": [
      "\n",
      "1it [02:02, 122.18s/it]\u001b[A"
     ]
    },
    {
     "name": "stdout",
     "output_type": "stream",
     "text": [
      "preds.shape: (1223, 5)\n"
     ]
    },
    {
     "name": "stderr",
     "output_type": "stream",
     "text": [
      "\n",
      "2it [03:58, 120.40s/it]\u001b[A"
     ]
    },
    {
     "name": "stdout",
     "output_type": "stream",
     "text": [
      "preds.shape: (1220, 5)\n"
     ]
    },
    {
     "name": "stderr",
     "output_type": "stream",
     "text": [
      "\n",
      "3it [06:01, 121.26s/it]\u001b[A"
     ]
    },
    {
     "name": "stdout",
     "output_type": "stream",
     "text": [
      "preds.shape: (1221, 5)\n"
     ]
    },
    {
     "name": "stderr",
     "output_type": "stream",
     "text": [
      "\n",
      "4it [08:06, 122.23s/it]\u001b[A"
     ]
    },
    {
     "name": "stdout",
     "output_type": "stream",
     "text": [
      "preds.shape: (1228, 5)\n"
     ]
    },
    {
     "name": "stderr",
     "output_type": "stream",
     "text": [
      "\n",
      "5it [10:05, 121.01s/it]\u001b[A\n",
      " 82%|████████▏ | 9/11 [1:25:28<19:39, 589.56s/it]\n",
      "0it [00:00, ?it/s]\u001b[A"
     ]
    },
    {
     "name": "stdout",
     "output_type": "stream",
     "text": [
      "preds.shape: (1225, 5)\n"
     ]
    },
    {
     "name": "stderr",
     "output_type": "stream",
     "text": [
      "\n",
      "1it [01:57, 117.71s/it]\u001b[A"
     ]
    },
    {
     "name": "stdout",
     "output_type": "stream",
     "text": [
      "preds.shape: (1223, 5)\n"
     ]
    },
    {
     "name": "stderr",
     "output_type": "stream",
     "text": [
      "\n",
      "2it [03:53, 117.27s/it]\u001b[A"
     ]
    },
    {
     "name": "stdout",
     "output_type": "stream",
     "text": [
      "preds.shape: (1220, 5)\n"
     ]
    },
    {
     "name": "stderr",
     "output_type": "stream",
     "text": [
      "\n",
      "3it [05:51, 117.37s/it]\u001b[A"
     ]
    },
    {
     "name": "stdout",
     "output_type": "stream",
     "text": [
      "preds.shape: (1221, 5)\n"
     ]
    },
    {
     "name": "stderr",
     "output_type": "stream",
     "text": [
      "\n",
      "4it [07:51, 118.17s/it]\u001b[A"
     ]
    },
    {
     "name": "stdout",
     "output_type": "stream",
     "text": [
      "preds.shape: (1228, 5)\n"
     ]
    },
    {
     "name": "stderr",
     "output_type": "stream",
     "text": [
      "\n",
      "5it [09:50, 118.18s/it]\u001b[A\n",
      " 91%|█████████ | 10/11 [1:35:19<09:49, 589.96s/it]\n",
      "0it [00:00, ?it/s]\u001b[A"
     ]
    },
    {
     "name": "stdout",
     "output_type": "stream",
     "text": [
      "preds.shape: (1225, 5)\n"
     ]
    },
    {
     "name": "stderr",
     "output_type": "stream",
     "text": [
      "0it [00:03, ?it/s]\n",
      " 91%|█████████ | 10/11 [1:35:23<09:32, 572.33s/it]\n"
     ]
    },
    {
     "ename": "AssertionError",
     "evalue": "Input image size (512*512) doesn't match model (384*384).",
     "output_type": "error",
     "traceback": [
      "\u001b[0;31m---------------------------------------------------------------------------\u001b[0m",
      "\u001b[0;31mAssertionError\u001b[0m                            Traceback (most recent call last)",
      "\u001b[0;32m<ipython-input-8-318d8ab27dd3>\u001b[0m in \u001b[0;36m<module>\u001b[0;34m\u001b[0m\n\u001b[1;32m     35\u001b[0m             \u001b[0mimage\u001b[0m \u001b[0;34m=\u001b[0m \u001b[0mimage\u001b[0m\u001b[0;34m[\u001b[0m\u001b[0;34m\"image\"\u001b[0m\u001b[0;34m]\u001b[0m\u001b[0;34m.\u001b[0m\u001b[0mto\u001b[0m\u001b[0;34m(\u001b[0m\u001b[0mdevice\u001b[0m\u001b[0;34m)\u001b[0m\u001b[0;34m\u001b[0m\u001b[0;34m\u001b[0m\u001b[0m\n\u001b[1;32m     36\u001b[0m             \u001b[0;32mwith\u001b[0m \u001b[0mtorch\u001b[0m\u001b[0;34m.\u001b[0m\u001b[0mno_grad\u001b[0m\u001b[0;34m(\u001b[0m\u001b[0;34m)\u001b[0m\u001b[0;34m:\u001b[0m\u001b[0;34m\u001b[0m\u001b[0;34m\u001b[0m\u001b[0m\n\u001b[0;32m---> 37\u001b[0;31m                 \u001b[0mpreds\u001b[0m\u001b[0;34m,\u001b[0m \u001b[0;34m*\u001b[0m\u001b[0m_\u001b[0m \u001b[0;34m=\u001b[0m \u001b[0mmodel\u001b[0m\u001b[0;34m(\u001b[0m\u001b[0mimage\u001b[0m\u001b[0;34m)\u001b[0m\u001b[0;34m\u001b[0m\u001b[0;34m\u001b[0m\u001b[0m\n\u001b[0m\u001b[1;32m     38\u001b[0m                 \u001b[0mpreds\u001b[0m \u001b[0;34m=\u001b[0m \u001b[0mpreds\u001b[0m\u001b[0;34m.\u001b[0m\u001b[0mcpu\u001b[0m\u001b[0;34m(\u001b[0m\u001b[0;34m)\u001b[0m\u001b[0;34m.\u001b[0m\u001b[0mdetach\u001b[0m\u001b[0;34m(\u001b[0m\u001b[0;34m)\u001b[0m\u001b[0;34m.\u001b[0m\u001b[0msigmoid\u001b[0m\u001b[0;34m(\u001b[0m\u001b[0;34m)\u001b[0m\u001b[0;34m\u001b[0m\u001b[0;34m\u001b[0m\u001b[0m\n\u001b[1;32m     39\u001b[0m \u001b[0;34m\u001b[0m\u001b[0m\n",
      "\u001b[0;32m/opt/conda/lib/python3.8/site-packages/torch/nn/modules/module.py\u001b[0m in \u001b[0;36m_call_impl\u001b[0;34m(self, *input, **kwargs)\u001b[0m\n\u001b[1;32m    887\u001b[0m             \u001b[0mresult\u001b[0m \u001b[0;34m=\u001b[0m \u001b[0mself\u001b[0m\u001b[0;34m.\u001b[0m\u001b[0m_slow_forward\u001b[0m\u001b[0;34m(\u001b[0m\u001b[0;34m*\u001b[0m\u001b[0minput\u001b[0m\u001b[0;34m,\u001b[0m \u001b[0;34m**\u001b[0m\u001b[0mkwargs\u001b[0m\u001b[0;34m)\u001b[0m\u001b[0;34m\u001b[0m\u001b[0;34m\u001b[0m\u001b[0m\n\u001b[1;32m    888\u001b[0m         \u001b[0;32melse\u001b[0m\u001b[0;34m:\u001b[0m\u001b[0;34m\u001b[0m\u001b[0;34m\u001b[0m\u001b[0m\n\u001b[0;32m--> 889\u001b[0;31m             \u001b[0mresult\u001b[0m \u001b[0;34m=\u001b[0m \u001b[0mself\u001b[0m\u001b[0;34m.\u001b[0m\u001b[0mforward\u001b[0m\u001b[0;34m(\u001b[0m\u001b[0;34m*\u001b[0m\u001b[0minput\u001b[0m\u001b[0;34m,\u001b[0m \u001b[0;34m**\u001b[0m\u001b[0mkwargs\u001b[0m\u001b[0;34m)\u001b[0m\u001b[0;34m\u001b[0m\u001b[0;34m\u001b[0m\u001b[0m\n\u001b[0m\u001b[1;32m    890\u001b[0m         for hook in itertools.chain(\n\u001b[1;32m    891\u001b[0m                 \u001b[0m_global_forward_hooks\u001b[0m\u001b[0;34m.\u001b[0m\u001b[0mvalues\u001b[0m\u001b[0;34m(\u001b[0m\u001b[0;34m)\u001b[0m\u001b[0;34m,\u001b[0m\u001b[0;34m\u001b[0m\u001b[0;34m\u001b[0m\u001b[0m\n",
      "\u001b[0;32m/workspace/siim-rsna-2021/exp/exp605/train.py\u001b[0m in \u001b[0;36mforward\u001b[0;34m(self, x, is_mask)\u001b[0m\n\u001b[1;32m    116\u001b[0m \u001b[0;34m\u001b[0m\u001b[0m\n\u001b[1;32m    117\u001b[0m     \u001b[0;32mdef\u001b[0m \u001b[0mforward\u001b[0m\u001b[0;34m(\u001b[0m\u001b[0mself\u001b[0m\u001b[0;34m,\u001b[0m \u001b[0mx\u001b[0m\u001b[0;34m,\u001b[0m \u001b[0mis_mask\u001b[0m\u001b[0;34m=\u001b[0m\u001b[0;32mTrue\u001b[0m\u001b[0;34m)\u001b[0m\u001b[0;34m:\u001b[0m\u001b[0;34m\u001b[0m\u001b[0;34m\u001b[0m\u001b[0m\n\u001b[0;32m--> 118\u001b[0;31m         \u001b[0mx\u001b[0m \u001b[0;34m=\u001b[0m \u001b[0mself\u001b[0m\u001b[0;34m.\u001b[0m\u001b[0mpatch_embed\u001b[0m\u001b[0;34m(\u001b[0m\u001b[0mx\u001b[0m\u001b[0;34m)\u001b[0m\u001b[0;34m\u001b[0m\u001b[0;34m\u001b[0m\u001b[0m\n\u001b[0m\u001b[1;32m    119\u001b[0m         \u001b[0mx\u001b[0m \u001b[0;34m=\u001b[0m \u001b[0mself\u001b[0m\u001b[0;34m.\u001b[0m\u001b[0mpos_drop\u001b[0m\u001b[0;34m(\u001b[0m\u001b[0mx\u001b[0m\u001b[0;34m)\u001b[0m\u001b[0;34m\u001b[0m\u001b[0;34m\u001b[0m\u001b[0m\n\u001b[1;32m    120\u001b[0m         \u001b[0mx\u001b[0m \u001b[0;34m=\u001b[0m \u001b[0mself\u001b[0m\u001b[0;34m.\u001b[0m\u001b[0mb0\u001b[0m\u001b[0;34m(\u001b[0m\u001b[0mx\u001b[0m\u001b[0;34m)\u001b[0m\u001b[0;34m\u001b[0m\u001b[0;34m\u001b[0m\u001b[0m\n",
      "\u001b[0;32m/opt/conda/lib/python3.8/site-packages/torch/nn/modules/module.py\u001b[0m in \u001b[0;36m_call_impl\u001b[0;34m(self, *input, **kwargs)\u001b[0m\n\u001b[1;32m    887\u001b[0m             \u001b[0mresult\u001b[0m \u001b[0;34m=\u001b[0m \u001b[0mself\u001b[0m\u001b[0;34m.\u001b[0m\u001b[0m_slow_forward\u001b[0m\u001b[0;34m(\u001b[0m\u001b[0;34m*\u001b[0m\u001b[0minput\u001b[0m\u001b[0;34m,\u001b[0m \u001b[0;34m**\u001b[0m\u001b[0mkwargs\u001b[0m\u001b[0;34m)\u001b[0m\u001b[0;34m\u001b[0m\u001b[0;34m\u001b[0m\u001b[0m\n\u001b[1;32m    888\u001b[0m         \u001b[0;32melse\u001b[0m\u001b[0;34m:\u001b[0m\u001b[0;34m\u001b[0m\u001b[0;34m\u001b[0m\u001b[0m\n\u001b[0;32m--> 889\u001b[0;31m             \u001b[0mresult\u001b[0m \u001b[0;34m=\u001b[0m \u001b[0mself\u001b[0m\u001b[0;34m.\u001b[0m\u001b[0mforward\u001b[0m\u001b[0;34m(\u001b[0m\u001b[0;34m*\u001b[0m\u001b[0minput\u001b[0m\u001b[0;34m,\u001b[0m \u001b[0;34m**\u001b[0m\u001b[0mkwargs\u001b[0m\u001b[0;34m)\u001b[0m\u001b[0;34m\u001b[0m\u001b[0;34m\u001b[0m\u001b[0m\n\u001b[0m\u001b[1;32m    890\u001b[0m         for hook in itertools.chain(\n\u001b[1;32m    891\u001b[0m                 \u001b[0m_global_forward_hooks\u001b[0m\u001b[0;34m.\u001b[0m\u001b[0mvalues\u001b[0m\u001b[0;34m(\u001b[0m\u001b[0;34m)\u001b[0m\u001b[0;34m,\u001b[0m\u001b[0;34m\u001b[0m\u001b[0;34m\u001b[0m\u001b[0m\n",
      "\u001b[0;32m/opt/conda/lib/python3.8/site-packages/timm/models/layers/patch_embed.py\u001b[0m in \u001b[0;36mforward\u001b[0;34m(self, x)\u001b[0m\n\u001b[1;32m     30\u001b[0m     \u001b[0;32mdef\u001b[0m \u001b[0mforward\u001b[0m\u001b[0;34m(\u001b[0m\u001b[0mself\u001b[0m\u001b[0;34m,\u001b[0m \u001b[0mx\u001b[0m\u001b[0;34m)\u001b[0m\u001b[0;34m:\u001b[0m\u001b[0;34m\u001b[0m\u001b[0;34m\u001b[0m\u001b[0m\n\u001b[1;32m     31\u001b[0m         \u001b[0mB\u001b[0m\u001b[0;34m,\u001b[0m \u001b[0mC\u001b[0m\u001b[0;34m,\u001b[0m \u001b[0mH\u001b[0m\u001b[0;34m,\u001b[0m \u001b[0mW\u001b[0m \u001b[0;34m=\u001b[0m \u001b[0mx\u001b[0m\u001b[0;34m.\u001b[0m\u001b[0mshape\u001b[0m\u001b[0;34m\u001b[0m\u001b[0;34m\u001b[0m\u001b[0m\n\u001b[0;32m---> 32\u001b[0;31m         \u001b[0;32massert\u001b[0m \u001b[0mH\u001b[0m \u001b[0;34m==\u001b[0m \u001b[0mself\u001b[0m\u001b[0;34m.\u001b[0m\u001b[0mimg_size\u001b[0m\u001b[0;34m[\u001b[0m\u001b[0;36m0\u001b[0m\u001b[0;34m]\u001b[0m \u001b[0;32mand\u001b[0m \u001b[0mW\u001b[0m \u001b[0;34m==\u001b[0m \u001b[0mself\u001b[0m\u001b[0;34m.\u001b[0m\u001b[0mimg_size\u001b[0m\u001b[0;34m[\u001b[0m\u001b[0;36m1\u001b[0m\u001b[0;34m]\u001b[0m\u001b[0;34m,\u001b[0m\u001b[0;31m \u001b[0m\u001b[0;31m\\\u001b[0m\u001b[0;34m\u001b[0m\u001b[0;34m\u001b[0m\u001b[0m\n\u001b[0m\u001b[1;32m     33\u001b[0m             \u001b[0;34mf\"Input image size ({H}*{W}) doesn't match model ({self.img_size[0]}*{self.img_size[1]}).\"\u001b[0m\u001b[0;34m\u001b[0m\u001b[0;34m\u001b[0m\u001b[0m\n\u001b[1;32m     34\u001b[0m         \u001b[0mx\u001b[0m \u001b[0;34m=\u001b[0m \u001b[0mself\u001b[0m\u001b[0;34m.\u001b[0m\u001b[0mproj\u001b[0m\u001b[0;34m(\u001b[0m\u001b[0mx\u001b[0m\u001b[0;34m)\u001b[0m\u001b[0;34m.\u001b[0m\u001b[0mflatten\u001b[0m\u001b[0;34m(\u001b[0m\u001b[0;36m2\u001b[0m\u001b[0;34m)\u001b[0m\u001b[0;34m.\u001b[0m\u001b[0mtranspose\u001b[0m\u001b[0;34m(\u001b[0m\u001b[0;36m1\u001b[0m\u001b[0;34m,\u001b[0m \u001b[0;36m2\u001b[0m\u001b[0;34m)\u001b[0m\u001b[0;34m\u001b[0m\u001b[0;34m\u001b[0m\u001b[0m\n",
      "\u001b[0;31mAssertionError\u001b[0m: Input image size (512*512) doesn't match model (384*384)."
     ]
    }
   ],
   "source": [
    "from copy import deepcopy\n",
    "\n",
    "# key: image size, value: model\n",
    "model_dict = {}\n",
    "\n",
    "image_size_list = []\n",
    "\n",
    "for model_set in tqdm(study_sub_list):\n",
    "    # 画像サイズをkey, modelのリストをvalueにする\n",
    "    # keyがまだない場合はからのリストを登録\n",
    "    model_dict.setdefault(model_set[2], [])\n",
    "    model_list = []\n",
    "    exp_name = model_set[-1]\n",
    "    for cv, ckpt in tqdm(enumerate(model_set[3])):\n",
    "        model = model_set[0].to(device)\n",
    "        weight = torch.load(ckpt, map_location=device)\n",
    "        model.load_state_dict(weight[\"state_dict\"])\n",
    "        model.eval()\n",
    "        \n",
    "        df_val = df[df.cv == cv].reset_index(drop=True)\n",
    "        \n",
    "        dataset = CustomDataset(df=df_val, transform=get_val_transforms(512))\n",
    "        test_loader = DataLoader(\n",
    "            dataset,\n",
    "            shuffle=False,\n",
    "            batch_size=32,\n",
    "            num_workers=0,\n",
    "            pin_memory=True,\n",
    "        )\n",
    "        \n",
    "        pred_list1 = []\n",
    "        for i, image in enumerate(test_loader):\n",
    "            pred_list2 = []\n",
    "            pred_mask2 = []\n",
    "            image = image[\"image\"].to(device)\n",
    "            with torch.no_grad():\n",
    "                preds, *_ = model(image)\n",
    "                preds = preds.cpu().detach().sigmoid()\n",
    "\n",
    "                # average prediction\n",
    "                pred_list1.append(preds)\n",
    "\n",
    "        preds = torch.cat(pred_list1).numpy()\n",
    "        print(f\"preds.shape: {preds.shape}\")\n",
    "        np.save(f'/workspace/output/oof/{exp_name}_cv{cv}.npy', preds)"
   ]
  },
  {
   "cell_type": "code",
   "execution_count": 9,
   "id": "5eeec0eb",
   "metadata": {},
   "outputs": [
    {
     "name": "stderr",
     "output_type": "stream",
     "text": [
      "  0%|          | 0/1 [00:00<?, ?it/s]\n",
      "0it [00:00, ?it/s]\u001b[A\n",
      "1it [01:49, 109.36s/it]\u001b[A"
     ]
    },
    {
     "name": "stdout",
     "output_type": "stream",
     "text": [
      "preds.shape: (1223, 5)\n"
     ]
    },
    {
     "name": "stderr",
     "output_type": "stream",
     "text": [
      "\n",
      "2it [03:37, 108.91s/it]\u001b[A"
     ]
    },
    {
     "name": "stdout",
     "output_type": "stream",
     "text": [
      "preds.shape: (1220, 5)\n"
     ]
    },
    {
     "name": "stderr",
     "output_type": "stream",
     "text": [
      "\n",
      "3it [05:27, 109.25s/it]\u001b[A"
     ]
    },
    {
     "name": "stdout",
     "output_type": "stream",
     "text": [
      "preds.shape: (1221, 5)\n"
     ]
    },
    {
     "name": "stderr",
     "output_type": "stream",
     "text": [
      "\n",
      "4it [07:24, 111.54s/it]\u001b[A"
     ]
    },
    {
     "name": "stdout",
     "output_type": "stream",
     "text": [
      "preds.shape: (1228, 5)\n"
     ]
    },
    {
     "name": "stderr",
     "output_type": "stream",
     "text": [
      "\n",
      "5it [09:17, 111.51s/it]\u001b[A\n",
      "100%|██████████| 1/1 [09:17<00:00, 557.54s/it]"
     ]
    },
    {
     "name": "stdout",
     "output_type": "stream",
     "text": [
      "preds.shape: (1225, 5)\n"
     ]
    },
    {
     "name": "stderr",
     "output_type": "stream",
     "text": [
      "\n"
     ]
    }
   ],
   "source": [
    "from copy import deepcopy\n",
    "\n",
    "# key: image size, value: model\n",
    "model_dict = {}\n",
    "\n",
    "image_size_list = []\n",
    "\n",
    "for model_set in tqdm([study_sub_list[-1]]):\n",
    "    # 画像サイズをkey, modelのリストをvalueにする\n",
    "    # keyがまだない場合はからのリストを登録\n",
    "    model_dict.setdefault(model_set[2], [])\n",
    "    model_list = []\n",
    "    exp_name = model_set[-1]\n",
    "    for cv, ckpt in tqdm(enumerate(model_set[3])):\n",
    "        model = model_set[0].to(device)\n",
    "        weight = torch.load(ckpt, map_location=device)\n",
    "        model.load_state_dict(weight[\"state_dict\"])\n",
    "        model.eval()\n",
    "        \n",
    "        df_val = df[df.cv == cv].reset_index(drop=True)\n",
    "        \n",
    "        dataset = CustomDataset(df=df_val, transform=get_val_transforms(model_set[2]))\n",
    "        test_loader = DataLoader(\n",
    "            dataset,\n",
    "            shuffle=False,\n",
    "            batch_size=32,\n",
    "            num_workers=0,\n",
    "            pin_memory=True,\n",
    "        )\n",
    "        \n",
    "        pred_list1 = []\n",
    "        for i, image in enumerate(test_loader):\n",
    "            pred_list2 = []\n",
    "            pred_mask2 = []\n",
    "            image = image[\"image\"].to(device)\n",
    "            with torch.no_grad():\n",
    "                preds, *_ = model(image)\n",
    "                preds = preds.cpu().detach().sigmoid()\n",
    "\n",
    "                # average prediction\n",
    "                pred_list1.append(preds)\n",
    "\n",
    "        preds = torch.cat(pred_list1).numpy()\n",
    "        print(f\"preds.shape: {preds.shape}\")\n",
    "        np.save(f'/workspace/output/oof/{exp_name}_cv{cv}.npy', preds)"
   ]
  },
  {
   "cell_type": "code",
   "execution_count": null,
   "id": "714434cd",
   "metadata": {},
   "outputs": [],
   "source": []
  },
  {
   "cell_type": "code",
   "execution_count": null,
   "id": "f451f3f9",
   "metadata": {},
   "outputs": [],
   "source": []
  },
  {
   "cell_type": "code",
   "execution_count": null,
   "id": "36b26d4c",
   "metadata": {},
   "outputs": [],
   "source": []
  },
  {
   "cell_type": "code",
   "execution_count": null,
   "id": "6089eae7",
   "metadata": {},
   "outputs": [],
   "source": []
  },
  {
   "cell_type": "code",
   "execution_count": null,
   "id": "c1e0ac76",
   "metadata": {},
   "outputs": [],
   "source": []
  },
  {
   "cell_type": "code",
   "execution_count": null,
   "id": "5c30c636",
   "metadata": {},
   "outputs": [],
   "source": []
  },
  {
   "cell_type": "code",
   "execution_count": null,
   "id": "682c41c3",
   "metadata": {},
   "outputs": [],
   "source": []
  },
  {
   "cell_type": "code",
   "execution_count": null,
   "id": "af1b76d3",
   "metadata": {},
   "outputs": [],
   "source": []
  }
 ],
 "metadata": {
  "kernelspec": {
   "display_name": "Python 3",
   "language": "python",
   "name": "python3"
  },
  "language_info": {
   "codemirror_mode": {
    "name": "ipython",
    "version": 3
   },
   "file_extension": ".py",
   "mimetype": "text/x-python",
   "name": "python",
   "nbconvert_exporter": "python",
   "pygments_lexer": "ipython3",
   "version": "3.8.8"
  }
 },
 "nbformat": 4,
 "nbformat_minor": 5
}
