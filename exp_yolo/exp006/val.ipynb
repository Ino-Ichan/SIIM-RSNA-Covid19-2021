{
 "cells": [
  {
   "cell_type": "markdown",
   "id": "03306b90",
   "metadata": {},
   "source": [
    "# Single Best"
   ]
  },
  {
   "cell_type": "code",
   "execution_count": 1,
   "id": "bed3ca4c",
   "metadata": {},
   "outputs": [
    {
     "name": "stdout",
     "output_type": "stream",
     "text": [
      "/workspace/customized_yolov5\n",
      "Namespace(augment=False, batch_size=32, conf_thres=0.001, data='/workspace/exp_yolo/config_000/config_0.yaml', device='', exist_ok=True, half=False, imgsz=512, iou_thres=0.5, name='/workspace/output/yolo_val_exp006_cv0', project='siim_rsna_yolov5', save_conf=False, save_hybrid=False, save_json=False, save_txt=False, single_cls=False, task='val', verbose=False, weights=['/workspace/output/yolo_exp006_cv0/weights/best.pt'])\n",
      "YOLOv5 🚀 191f708 torch 1.8.1+cu111 CUDA:0 (GeForce RTX 3090, 24259.875MB)\n",
      "\n",
      "Fusing layers... \n",
      "Model Summary: 606 layers, 140996152 parameters, 0 gradients, 221.2 GFLOPs\n",
      "\u001b[34m\u001b[1mval: \u001b[0mScanning '/workspace/exp_yolo/config_000/val_0.cache' images and labels... \u001b[0m\n",
      "               Class     Images     Labels          P          R     mAP@.5 mAP@\n",
      "                 all       1262       1578      0.562      0.527      0.493      0.147\n",
      "Speed: 0.1ms pre-process, 11.8ms inference, 0.8ms NMS per image at shape (32, 3, 512, 512)\n",
      "Results saved to /workspace/output/yolo_val_exp006_cv0\n",
      "Namespace(augment=False, batch_size=32, conf_thres=0.001, data='/workspace/exp_yolo/config_000/config_1.yaml', device='', exist_ok=True, half=False, imgsz=512, iou_thres=0.5, name='/workspace/output/yolo_val_exp006_cv1', project='siim_rsna_yolov5', save_conf=False, save_hybrid=False, save_json=False, save_txt=False, single_cls=False, task='val', verbose=False, weights=['/workspace/output/yolo_exp006_cv1/weights/best.pt'])\n",
      "YOLOv5 🚀 191f708 torch 1.8.1+cu111 CUDA:0 (GeForce RTX 3090, 24259.875MB)\n",
      "\n",
      "Fusing layers... \n",
      "Model Summary: 606 layers, 140996152 parameters, 0 gradients, 221.2 GFLOPs\n",
      "\u001b[34m\u001b[1mval: \u001b[0mScanning '/workspace/exp_yolo/config_000/val_1.cache' images and labels... \u001b[0m\n",
      "               Class     Images     Labels          P          R     mAP@.5 mAP@\n",
      "                 all       1264       1572      0.532      0.446       0.43      0.134\n",
      "Speed: 0.1ms pre-process, 12.0ms inference, 0.8ms NMS per image at shape (32, 3, 512, 512)\n",
      "Results saved to /workspace/output/yolo_val_exp006_cv1\n",
      "Namespace(augment=False, batch_size=32, conf_thres=0.001, data='/workspace/exp_yolo/config_000/config_2.yaml', device='', exist_ok=True, half=False, imgsz=512, iou_thres=0.5, name='/workspace/output/yolo_val_exp006_cv2', project='siim_rsna_yolov5', save_conf=False, save_hybrid=False, save_json=False, save_txt=False, single_cls=False, task='val', verbose=False, weights=['/workspace/output/yolo_exp006_cv2/weights/best.pt'])\n",
      "YOLOv5 🚀 191f708 torch 1.8.1+cu111 CUDA:0 (GeForce RTX 3090, 24259.875MB)\n",
      "\n",
      "Fusing layers... \n",
      "Model Summary: 606 layers, 140996152 parameters, 0 gradients, 221.2 GFLOPs\n",
      "\u001b[34m\u001b[1mval: \u001b[0mScanning '/workspace/exp_yolo/config_000/val_2.cache' images and labels... \u001b[0m\n",
      "               Class     Images     Labels          P          R     mAP@.5 mAP@\n",
      "                 all       1273       1588      0.538      0.486      0.459      0.141\n",
      "Speed: 0.1ms pre-process, 12.0ms inference, 0.8ms NMS per image at shape (32, 3, 512, 512)\n",
      "Results saved to /workspace/output/yolo_val_exp006_cv2\n",
      "Namespace(augment=False, batch_size=32, conf_thres=0.001, data='/workspace/exp_yolo/config_000/config_3.yaml', device='', exist_ok=True, half=False, imgsz=512, iou_thres=0.5, name='/workspace/output/yolo_val_exp006_cv3', project='siim_rsna_yolov5', save_conf=False, save_hybrid=False, save_json=False, save_txt=False, single_cls=False, task='val', verbose=False, weights=['/workspace/output/yolo_exp006_cv3/weights/best.pt'])\n",
      "YOLOv5 🚀 191f708 torch 1.8.1+cu111 CUDA:0 (GeForce RTX 3090, 24259.875MB)\n",
      "\n",
      "Fusing layers... \n",
      "Model Summary: 606 layers, 140996152 parameters, 0 gradients, 221.2 GFLOPs\n",
      "\u001b[34m\u001b[1mval: \u001b[0mScanning '/workspace/exp_yolo/config_000/val_3.cache' images and labels... \u001b[0m\n",
      "               Class     Images     Labels          P          R     mAP@.5 mAP@\n",
      "                 all       1271       1560      0.513      0.512      0.468      0.141\n",
      "Speed: 0.1ms pre-process, 12.1ms inference, 0.8ms NMS per image at shape (32, 3, 512, 512)\n",
      "Results saved to /workspace/output/yolo_val_exp006_cv3\n",
      "Namespace(augment=False, batch_size=32, conf_thres=0.001, data='/workspace/exp_yolo/config_000/config_4.yaml', device='', exist_ok=True, half=False, imgsz=512, iou_thres=0.5, name='/workspace/output/yolo_val_exp006_cv4', project='siim_rsna_yolov5', save_conf=False, save_hybrid=False, save_json=False, save_txt=False, single_cls=False, task='val', verbose=False, weights=['/workspace/output/yolo_exp006_cv4/weights/best.pt'])\n",
      "YOLOv5 🚀 191f708 torch 1.8.1+cu111 CUDA:0 (GeForce RTX 3090, 24259.875MB)\n",
      "\n",
      "Fusing layers... \n",
      "Model Summary: 606 layers, 140996152 parameters, 0 gradients, 221.2 GFLOPs\n",
      "\u001b[34m\u001b[1mval: \u001b[0mScanning '/workspace/exp_yolo/config_000/val_4.cache' images and labels... \u001b[0m\n",
      "               Class     Images     Labels          P          R     mAP@.5 mAP@\n",
      "                 all       1264       1555      0.589      0.463      0.466      0.139\n",
      "Speed: 0.1ms pre-process, 12.1ms inference, 0.8ms NMS per image at shape (32, 3, 512, 512)\n",
      "Results saved to /workspace/output/yolo_val_exp006_cv4\n"
     ]
    }
   ],
   "source": [
    "%cd /workspace/customized_yolov5/\n",
    "!sh /workspace/exp_yolo/exp006/val7.sh"
   ]
  },
  {
   "cell_type": "code",
   "execution_count": null,
   "id": "901612b9",
   "metadata": {},
   "outputs": [],
   "source": []
  },
  {
   "cell_type": "code",
   "execution_count": null,
   "id": "8e9681ee",
   "metadata": {},
   "outputs": [],
   "source": []
  },
  {
   "cell_type": "code",
   "execution_count": null,
   "id": "4a22260f",
   "metadata": {},
   "outputs": [],
   "source": []
  },
  {
   "cell_type": "code",
   "execution_count": null,
   "id": "837d8804",
   "metadata": {},
   "outputs": [],
   "source": []
  },
  {
   "cell_type": "code",
   "execution_count": null,
   "id": "115ab626",
   "metadata": {},
   "outputs": [],
   "source": []
  },
  {
   "cell_type": "code",
   "execution_count": null,
   "id": "113b9155",
   "metadata": {},
   "outputs": [],
   "source": []
  }
 ],
 "metadata": {
  "kernelspec": {
   "display_name": "Python 3",
   "language": "python",
   "name": "python3"
  },
  "language_info": {
   "codemirror_mode": {
    "name": "ipython",
    "version": 3
   },
   "file_extension": ".py",
   "mimetype": "text/x-python",
   "name": "python",
   "nbconvert_exporter": "python",
   "pygments_lexer": "ipython3",
   "version": "3.8.3"
  }
 },
 "nbformat": 4,
 "nbformat_minor": 5
}
