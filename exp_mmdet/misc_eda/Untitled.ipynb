{
 "cells": [
  {
   "cell_type": "code",
   "execution_count": 1,
   "id": "6ff43efe-0170-4bd4-b1ed-beb5090bc77a",
   "metadata": {},
   "outputs": [],
   "source": [
    "import torch\n",
    "from mmdet.models.backbones import TimmBB"
   ]
  },
  {
   "cell_type": "code",
   "execution_count": null,
   "id": "1fb3ad45-d6e2-4ae7-bacf-f664f4db2d96",
   "metadata": {},
   "outputs": [],
   "source": []
  }
 ],
 "metadata": {
  "kernelspec": {
   "display_name": "Python 3",
   "language": "python",
   "name": "python3"
  },
  "language_info": {
   "codemirror_mode": {
    "name": "ipython",
    "version": 3
   },
   "file_extension": ".py",
   "mimetype": "text/x-python",
   "name": "python",
   "nbconvert_exporter": "python",
   "pygments_lexer": "ipython3",
   "version": "3.8.3"
  }
 },
 "nbformat": 4,
 "nbformat_minor": 5
}
