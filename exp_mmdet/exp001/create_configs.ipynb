{
 "cells": [
  {
   "cell_type": "code",
   "execution_count": 18,
   "id": "a1cb9dfb-9c27-4dbf-9448-79a2541a5101",
   "metadata": {},
   "outputs": [],
   "source": [
    "import pandas as pd\n",
    "import json\n",
    "from tqdm import tqdm\n",
    "\n",
    "import mmcv"
   ]
  },
  {
   "cell_type": "code",
   "execution_count": 2,
   "id": "a0c99377-13ab-41c8-aceb-90d200bd0008",
   "metadata": {},
   "outputs": [
    {
     "data": {
      "text/html": [
       "<div>\n",
       "<style scoped>\n",
       "    .dataframe tbody tr th:only-of-type {\n",
       "        vertical-align: middle;\n",
       "    }\n",
       "\n",
       "    .dataframe tbody tr th {\n",
       "        vertical-align: top;\n",
       "    }\n",
       "\n",
       "    .dataframe thead th {\n",
       "        text-align: right;\n",
       "    }\n",
       "</style>\n",
       "<table border=\"1\" class=\"dataframe\">\n",
       "  <thead>\n",
       "    <tr style=\"text-align: right;\">\n",
       "      <th></th>\n",
       "      <th>id</th>\n",
       "      <th>x</th>\n",
       "      <th>y</th>\n",
       "      <th>w</th>\n",
       "      <th>h</th>\n",
       "      <th>study_id</th>\n",
       "      <th>image_id</th>\n",
       "      <th>have_box</th>\n",
       "      <th>dicom_path</th>\n",
       "      <th>Negative for Pneumonia</th>\n",
       "      <th>Typical Appearance</th>\n",
       "      <th>Indeterminate Appearance</th>\n",
       "      <th>Atypical Appearance</th>\n",
       "      <th>cv</th>\n",
       "      <th>npy_path</th>\n",
       "      <th>is_none</th>\n",
       "      <th>height</th>\n",
       "      <th>width</th>\n",
       "    </tr>\n",
       "  </thead>\n",
       "  <tbody>\n",
       "    <tr>\n",
       "      <th>0</th>\n",
       "      <td>04f41a8958f7_image</td>\n",
       "      <td>688.06282</td>\n",
       "      <td>966.82563</td>\n",
       "      <td>518.48212</td>\n",
       "      <td>1130.17438</td>\n",
       "      <td>6e4a0581cefe</td>\n",
       "      <td>04f41a8958f7</td>\n",
       "      <td>1</td>\n",
       "      <td>/workspace/data/train/6e4a0581cefe/018ed20fa9c...</td>\n",
       "      <td>0</td>\n",
       "      <td>1</td>\n",
       "      <td>0</td>\n",
       "      <td>0</td>\n",
       "      <td>0</td>\n",
       "      <td>/workspace/data/train_640_2/04f41a8958f7.png</td>\n",
       "      <td>0</td>\n",
       "      <td>2490</td>\n",
       "      <td>3408</td>\n",
       "    </tr>\n",
       "    <tr>\n",
       "      <th>1</th>\n",
       "      <td>04f41a8958f7_image</td>\n",
       "      <td>2482.36026</td>\n",
       "      <td>1636.77436</td>\n",
       "      <td>652.47168</td>\n",
       "      <td>652.47168</td>\n",
       "      <td>6e4a0581cefe</td>\n",
       "      <td>04f41a8958f7</td>\n",
       "      <td>1</td>\n",
       "      <td>/workspace/data/train/6e4a0581cefe/018ed20fa9c...</td>\n",
       "      <td>0</td>\n",
       "      <td>1</td>\n",
       "      <td>0</td>\n",
       "      <td>0</td>\n",
       "      <td>0</td>\n",
       "      <td>/workspace/data/train_640_2/04f41a8958f7.png</td>\n",
       "      <td>0</td>\n",
       "      <td>2490</td>\n",
       "      <td>3408</td>\n",
       "    </tr>\n",
       "    <tr>\n",
       "      <th>2</th>\n",
       "      <td>04f41a8958f7_image</td>\n",
       "      <td>1235.67308</td>\n",
       "      <td>1628.03597</td>\n",
       "      <td>509.74353</td>\n",
       "      <td>559.26147</td>\n",
       "      <td>6e4a0581cefe</td>\n",
       "      <td>04f41a8958f7</td>\n",
       "      <td>1</td>\n",
       "      <td>/workspace/data/train/6e4a0581cefe/018ed20fa9c...</td>\n",
       "      <td>0</td>\n",
       "      <td>1</td>\n",
       "      <td>0</td>\n",
       "      <td>0</td>\n",
       "      <td>0</td>\n",
       "      <td>/workspace/data/train_640_2/04f41a8958f7.png</td>\n",
       "      <td>0</td>\n",
       "      <td>2490</td>\n",
       "      <td>3408</td>\n",
       "    </tr>\n",
       "    <tr>\n",
       "      <th>3</th>\n",
       "      <td>0572ef0d0c1a_image</td>\n",
       "      <td>1818.65264</td>\n",
       "      <td>233.50598</td>\n",
       "      <td>613.04395</td>\n",
       "      <td>839.53784</td>\n",
       "      <td>adbfed2da701</td>\n",
       "      <td>0572ef0d0c1a</td>\n",
       "      <td>1</td>\n",
       "      <td>/workspace/data/train/adbfed2da701/e2fa197720c...</td>\n",
       "      <td>0</td>\n",
       "      <td>1</td>\n",
       "      <td>0</td>\n",
       "      <td>0</td>\n",
       "      <td>3</td>\n",
       "      <td>/workspace/data/train_640_2/0572ef0d0c1a.png</td>\n",
       "      <td>0</td>\n",
       "      <td>2436</td>\n",
       "      <td>3032</td>\n",
       "    </tr>\n",
       "    <tr>\n",
       "      <th>4</th>\n",
       "      <td>0572ef0d0c1a_image</td>\n",
       "      <td>598.60492</td>\n",
       "      <td>61.37052</td>\n",
       "      <td>688.54175</td>\n",
       "      <td>881.81674</td>\n",
       "      <td>adbfed2da701</td>\n",
       "      <td>0572ef0d0c1a</td>\n",
       "      <td>1</td>\n",
       "      <td>/workspace/data/train/adbfed2da701/e2fa197720c...</td>\n",
       "      <td>0</td>\n",
       "      <td>1</td>\n",
       "      <td>0</td>\n",
       "      <td>0</td>\n",
       "      <td>3</td>\n",
       "      <td>/workspace/data/train_640_2/0572ef0d0c1a.png</td>\n",
       "      <td>0</td>\n",
       "      <td>2436</td>\n",
       "      <td>3032</td>\n",
       "    </tr>\n",
       "  </tbody>\n",
       "</table>\n",
       "</div>"
      ],
      "text/plain": [
       "                   id           x           y          w           h  \\\n",
       "0  04f41a8958f7_image   688.06282   966.82563  518.48212  1130.17438   \n",
       "1  04f41a8958f7_image  2482.36026  1636.77436  652.47168   652.47168   \n",
       "2  04f41a8958f7_image  1235.67308  1628.03597  509.74353   559.26147   \n",
       "3  0572ef0d0c1a_image  1818.65264   233.50598  613.04395   839.53784   \n",
       "4  0572ef0d0c1a_image   598.60492    61.37052  688.54175   881.81674   \n",
       "\n",
       "       study_id      image_id  have_box  \\\n",
       "0  6e4a0581cefe  04f41a8958f7         1   \n",
       "1  6e4a0581cefe  04f41a8958f7         1   \n",
       "2  6e4a0581cefe  04f41a8958f7         1   \n",
       "3  adbfed2da701  0572ef0d0c1a         1   \n",
       "4  adbfed2da701  0572ef0d0c1a         1   \n",
       "\n",
       "                                          dicom_path  Negative for Pneumonia  \\\n",
       "0  /workspace/data/train/6e4a0581cefe/018ed20fa9c...                       0   \n",
       "1  /workspace/data/train/6e4a0581cefe/018ed20fa9c...                       0   \n",
       "2  /workspace/data/train/6e4a0581cefe/018ed20fa9c...                       0   \n",
       "3  /workspace/data/train/adbfed2da701/e2fa197720c...                       0   \n",
       "4  /workspace/data/train/adbfed2da701/e2fa197720c...                       0   \n",
       "\n",
       "   Typical Appearance  Indeterminate Appearance  Atypical Appearance  cv  \\\n",
       "0                   1                         0                    0   0   \n",
       "1                   1                         0                    0   0   \n",
       "2                   1                         0                    0   0   \n",
       "3                   1                         0                    0   3   \n",
       "4                   1                         0                    0   3   \n",
       "\n",
       "                                       npy_path  is_none  height  width  \n",
       "0  /workspace/data/train_640_2/04f41a8958f7.png        0    2490   3408  \n",
       "1  /workspace/data/train_640_2/04f41a8958f7.png        0    2490   3408  \n",
       "2  /workspace/data/train_640_2/04f41a8958f7.png        0    2490   3408  \n",
       "3  /workspace/data/train_640_2/0572ef0d0c1a.png        0    2436   3032  \n",
       "4  /workspace/data/train_640_2/0572ef0d0c1a.png        0    2436   3032  "
      ]
     },
     "execution_count": 2,
     "metadata": {},
     "output_type": "execute_result"
    }
   ],
   "source": [
    "df = pd.read_csv(\"/workspace/data/df_train_study_level_npy640_3_w_bbox_hw.csv\")\n",
    "df.head()"
   ]
  },
  {
   "cell_type": "markdown",
   "id": "e9c92052-11e5-4c10-8c09-618bf638a1a3",
   "metadata": {},
   "source": [
    "https://github.com/open-mmlab/mmdetection/blob/master/docs/2_new_data_model.md"
   ]
  },
  {
   "cell_type": "code",
   "execution_count": 20,
   "id": "b83e4be9-0081-4592-93f0-62452093dacb",
   "metadata": {},
   "outputs": [
    {
     "name": "stderr",
     "output_type": "stream",
     "text": [
      "3it [00:00, 17.81it/s]\n"
     ]
    }
   ],
   "source": [
    "for cv in range(5):\n",
    "    if cv == 1:\n",
    "        break\n",
    "    to_json = [\n",
    "        [df[df.cv != cv].reset_index(drop=True), f\"out.json\"],\n",
    "#         [df[df.cv == cv].reset_index(drop=True), f\"../config/val_cv{cv}.json\"]\n",
    "    ]\n",
    "    \n",
    "    for df_to_json, out_file in to_json:\n",
    "\n",
    "        image_id_unique = df_to_json[\"id\"].unique()\n",
    "\n",
    "        images = []\n",
    "        annotations = []\n",
    "        obj_count = 0\n",
    "\n",
    "        for idx, image_id in tqdm(enumerate(image_id_unique)):\n",
    "            if idx == 3:\n",
    "                break\n",
    "            target_df = df[df[\"id\"] == image_id]\n",
    "\n",
    "            img_path = target_df.iloc[0:1][\"npy_path\"].iloc[0]\n",
    "            filename = img_path.split('/')[-1]\n",
    "            height, width = mmcv.imread(img_path).shape[:2]\n",
    "\n",
    "            images.append(dict(\n",
    "                id=idx,\n",
    "                file_name=filename,\n",
    "                height=height,\n",
    "                width=width))\n",
    "\n",
    "\n",
    "            for row_id in range(len(target_df)):\n",
    "                row = target_df.iloc[row_id]\n",
    "                x_min, y_min, x_max, y_max = (\n",
    "                    row[\"x\"], row[\"y\"],row[\"x\"] + row[\"w\"], row[\"y\"] + row[\"h\"])\n",
    "\n",
    "\n",
    "                data_anno = dict(\n",
    "                    image_id=idx,\n",
    "                    id=obj_count,\n",
    "                    category_id=0,\n",
    "                    bbox=[x_min, y_min, x_max - x_min, y_max - y_min],\n",
    "                    area=(x_max - x_min) * (y_max - y_min),\n",
    "                    iscrowd=0)\n",
    "                annotations.append(data_anno)\n",
    "                obj_count += 1\n",
    "\n",
    "        coco_format_json = dict(\n",
    "            images=images,\n",
    "            annotations=annotations,\n",
    "            categories=[{'id':0, 'name': 'opacity'}])\n",
    "        mmcv.dump(coco_format_json, out_file)\n",
    "        break"
   ]
  },
  {
   "cell_type": "code",
   "execution_count": 21,
   "id": "99f4f140-5679-4990-be80-dae95f0d09a4",
   "metadata": {},
   "outputs": [
    {
     "name": "stderr",
     "output_type": "stream",
     "text": [
      "4894it [05:19, 15.30it/s]\n",
      "1223it [01:20, 15.23it/s]\n",
      "4897it [05:20, 15.26it/s]\n",
      "1220it [01:18, 15.51it/s]\n",
      "4896it [05:25, 15.05it/s]\n",
      "1221it [01:19, 15.37it/s]\n",
      "4889it [05:47, 14.06it/s]\n",
      "1228it [01:40, 12.24it/s]\n",
      "4892it [06:35, 12.38it/s]\n",
      "1225it [01:21, 15.03it/s]\n"
     ]
    }
   ],
   "source": [
    "for cv in range(5):\n",
    "    to_json = [\n",
    "        [df[df.cv != cv].reset_index(drop=True), f\"../config/train_cv{cv}.json\"],\n",
    "        [df[df.cv == cv].reset_index(drop=True), f\"../config/val_cv{cv}.json\"]\n",
    "    ]\n",
    "    \n",
    "    for df_to_json, out_file in to_json:\n",
    "\n",
    "        image_id_unique = df_to_json[\"id\"].unique()\n",
    "\n",
    "        images = []\n",
    "        annotations = []\n",
    "        obj_count = 0\n",
    "\n",
    "        for idx, image_id in tqdm(enumerate(image_id_unique)):\n",
    "            target_df = df[df[\"id\"] == image_id]\n",
    "\n",
    "            img_path = target_df.iloc[0:1][\"npy_path\"].iloc[0]\n",
    "            filename = img_path.split('/')[-1]\n",
    "            height, width = mmcv.imread(img_path).shape[:2]\n",
    "\n",
    "            images.append(dict(\n",
    "                id=idx,\n",
    "                file_name=filename,\n",
    "                height=height,\n",
    "                width=width))\n",
    "\n",
    "\n",
    "            for row_id in range(len(target_df)):\n",
    "                row = target_df.iloc[row_id]\n",
    "                x_min, y_min, x_max, y_max = (\n",
    "                    row[\"x\"], row[\"y\"],row[\"x\"] + row[\"w\"], row[\"y\"] + row[\"h\"])\n",
    "\n",
    "\n",
    "                data_anno = dict(\n",
    "                    image_id=idx,\n",
    "                    id=obj_count,\n",
    "                    category_id=0,\n",
    "                    bbox=[x_min, y_min, x_max - x_min, y_max - y_min],\n",
    "                    area=(x_max - x_min) * (y_max - y_min),\n",
    "                    iscrowd=0)\n",
    "                annotations.append(data_anno)\n",
    "                obj_count += 1\n",
    "\n",
    "        coco_format_json = dict(\n",
    "            images=images,\n",
    "            annotations=annotations,\n",
    "            categories=[{'id':0, 'name': 'opacity'}])\n",
    "        mmcv.dump(coco_format_json, out_file)"
   ]
  },
  {
   "cell_type": "code",
   "execution_count": 13,
   "id": "71454f29-32b7-49dc-9b58-0fd017b7307d",
   "metadata": {},
   "outputs": [
    {
     "data": {
      "text/plain": [
       "1919"
      ]
     },
     "execution_count": 13,
     "metadata": {},
     "output_type": "execute_result"
    }
   ],
   "source": [
    "len(annotations)"
   ]
  },
  {
   "cell_type": "code",
   "execution_count": 14,
   "id": "ef52e6bf-41d0-4e61-83e4-16963e67a69d",
   "metadata": {},
   "outputs": [
    {
     "data": {
      "text/plain": [
       "1225"
      ]
     },
     "execution_count": 14,
     "metadata": {},
     "output_type": "execute_result"
    }
   ],
   "source": [
    "len(images)"
   ]
  },
  {
   "cell_type": "code",
   "execution_count": 17,
   "id": "23a1e622-b2d9-4d95-b852-1e62ad8dc008",
   "metadata": {},
   "outputs": [
    {
     "data": {
      "text/plain": [
       "6117"
      ]
     },
     "execution_count": 17,
     "metadata": {},
     "output_type": "execute_result"
    }
   ],
   "source": [
    "len(df.id.unique())"
   ]
  },
  {
   "cell_type": "code",
   "execution_count": null,
   "id": "03aab307-0c73-40a4-9e7c-0eda2dc685a6",
   "metadata": {},
   "outputs": [],
   "source": []
  }
 ],
 "metadata": {
  "kernelspec": {
   "display_name": "Python 3",
   "language": "python",
   "name": "python3"
  },
  "language_info": {
   "codemirror_mode": {
    "name": "ipython",
    "version": 3
   },
   "file_extension": ".py",
   "mimetype": "text/x-python",
   "name": "python",
   "nbconvert_exporter": "python",
   "pygments_lexer": "ipython3",
   "version": "3.8.3"
  }
 },
 "nbformat": 4,
 "nbformat_minor": 5
}
