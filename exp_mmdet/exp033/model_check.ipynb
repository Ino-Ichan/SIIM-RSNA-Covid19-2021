{
 "cells": [
  {
   "cell_type": "code",
   "execution_count": 1,
   "id": "8d235a6e-2cf4-415a-902a-636dca2f159c",
   "metadata": {},
   "outputs": [],
   "source": [
    "import sys\n",
    "sys.path.append('/workspace/customized_mmdetection/')\n",
    "from mmdet.models import EfficientNet"
   ]
  },
  {
   "cell_type": "code",
   "execution_count": 2,
   "id": "624a9306-1b05-4225-bc30-4e8057dcc26b",
   "metadata": {},
   "outputs": [],
   "source": [
    "import torch"
   ]
  },
  {
   "cell_type": "code",
   "execution_count": 3,
   "id": "ffdac36f-c852-4f6c-910a-98dbe6404ab4",
   "metadata": {},
   "outputs": [],
   "source": [
    "self = EfficientNet(model_name='tf_efficientnet_b2', pretrained=False)"
   ]
  },
  {
   "cell_type": "code",
   "execution_count": 4,
   "id": "c564e436-666c-467f-8f0c-1db25860d590",
   "metadata": {},
   "outputs": [],
   "source": [
    "self.eval()"
   ]
  },
  {
   "cell_type": "code",
   "execution_count": 5,
   "id": "0a12fd37-5277-4a43-9468-9ab090f177de",
   "metadata": {},
   "outputs": [],
   "source": [
    "inputs = torch.rand(1,3,768,768)"
   ]
  },
  {
   "cell_type": "code",
   "execution_count": 6,
   "id": "7847ae1d-cb44-49a2-bb3e-579394002ef3",
   "metadata": {},
   "outputs": [],
   "source": [
    "level_outputs = self(inputs)"
   ]
  },
  {
   "cell_type": "code",
   "execution_count": 7,
   "id": "6d7c4509-5c36-4b01-ac27-697dec491d14",
   "metadata": {},
   "outputs": [
    {
     "name": "stdout",
     "output_type": "stream",
     "text": [
      "(1, 48, 96, 96)\n",
      "(1, 88, 48, 48)\n",
      "(1, 120, 48, 48)\n",
      "(1, 208, 24, 24)\n",
      "(1, 352, 24, 24)\n"
     ]
    }
   ],
   "source": [
    "for level_out in level_outputs:\n",
    "    print(tuple(level_out.shape))"
   ]
  },
  {
   "cell_type": "code",
   "execution_count": 8,
   "id": "06e9f389-fc77-486e-a60a-1fafbe3e110e",
   "metadata": {},
   "outputs": [
    {
     "name": "stdout",
     "output_type": "stream",
     "text": [
      "(1, 56, 80, 80)\n",
      "(1, 112, 40, 40)\n",
      "(1, 160, 40, 40)\n",
      "(1, 272, 20, 20)\n",
      "(1, 448, 20, 20)\n"
     ]
    }
   ],
   "source": [
    "self = EfficientNet(model_name='tf_efficientnet_b4', pretrained=False)\n",
    "self.eval()\n",
    "inputs = torch.rand(1,3,640,640)\n",
    "level_outputs = self(inputs)\n",
    "for level_out in level_outputs:\n",
    "    print(tuple(level_out.shape))"
   ]
  },
  {
   "cell_type": "code",
   "execution_count": null,
   "id": "03babbd0-c32a-46b5-99dc-c95be850b5a6",
   "metadata": {},
   "outputs": [],
   "source": []
  }
 ],
 "metadata": {
  "kernelspec": {
   "display_name": "Python 3",
   "language": "python",
   "name": "python3"
  },
  "language_info": {
   "codemirror_mode": {
    "name": "ipython",
    "version": 3
   },
   "file_extension": ".py",
   "mimetype": "text/x-python",
   "name": "python",
   "nbconvert_exporter": "python",
   "pygments_lexer": "ipython3",
   "version": "3.8.3"
  }
 },
 "nbformat": 4,
 "nbformat_minor": 5
}
